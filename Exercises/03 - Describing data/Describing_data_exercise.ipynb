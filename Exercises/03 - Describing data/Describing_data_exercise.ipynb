{
 "cells": [
  {
   "cell_type": "markdown",
   "metadata": {},
   "source": [
    "# Describing Data\n",
    "\n",
    "### What do you find in this notebook?\n",
    "\n",
    "In this exercise, first, you will familiarize yourself with the Python libraries 'statsmodels' and 'SciPy' that let you do statistical analysis: calculate descriptive statistics, sample datapoints, study relationships between variables, and perform hypothesis testing. Then, second, you will work on a set of exercises that will let you practice your skills.\n",
    "\n",
    "Here we show a couple of examples of how to do common analyses, but there are many more useful probability distributions and statistical tests. In the linked documentation, you will find complete information, and a lot more details compared to what is outlined in this notebook:\n",
    "- [statsmodels](https://www.statsmodels.org/stable/examples/index.html), [more complete documentation](https://www.statsmodels.org/stable/stats.html)\n",
    "- [SciPy](https://docs.scipy.org/doc/scipy/reference/stats.html)"
   ]
  },
  {
   "cell_type": "markdown",
   "metadata": {},
   "source": [
    "# Tutorial: How to use the libraries\n",
    "\n",
    "- You will be working with the full US 2015 census dataset (acs2015_county_data.csv, available at https://www.kaggle.com/muonneutrino/us-census-demographic-data#acs2015_county_data.csv). Here we load it. Take some time to familiarize yourself with the contents. One row represents one county."
   ]
  },
  {
   "cell_type": "code",
   "execution_count": 1,
   "metadata": {
    "tags": []
   },
   "outputs": [],
   "source": [
    "import pandas as pd\n",
    "import pandas as pd\n",
    "import numpy as np\n",
    "import matplotlib.pyplot as plt\n",
    "%matplotlib inline\n",
    "import seaborn as sns\n",
    "import math\n",
    "\n",
    "#load the statistical libraries\n",
    "from statsmodels.stats import diagnostic\n",
    "from scipy import stats"
   ]
  },
  {
   "cell_type": "code",
   "execution_count": 2,
   "metadata": {
    "tags": []
   },
   "outputs": [],
   "source": [
    "data_folder = './data/'\n",
    "df = pd.read_csv(data_folder + 'acs2015_county_data.csv')"
   ]
  },
  {
   "cell_type": "code",
   "execution_count": 3,
   "metadata": {},
   "outputs": [
    {
     "data": {
      "text/plain": [
       "Index(['CensusId', 'State', 'County', 'TotalPop', 'Men', 'Women', 'Hispanic',\n",
       "       'White', 'Black', 'Native', 'Asian', 'Pacific', 'Citizen', 'Income',\n",
       "       'IncomeErr', 'IncomePerCap', 'IncomePerCapErr', 'Poverty',\n",
       "       'ChildPoverty', 'Professional', 'Service', 'Office', 'Construction',\n",
       "       'Production', 'Drive', 'Carpool', 'Transit', 'Walk', 'OtherTransp',\n",
       "       'WorkAtHome', 'MeanCommute', 'Employed', 'PrivateWork', 'PublicWork',\n",
       "       'SelfEmployed', 'FamilyWork', 'Unemployment'],\n",
       "      dtype='object')"
      ]
     },
     "execution_count": 3,
     "metadata": {},
     "output_type": "execute_result"
    }
   ],
   "source": [
    "df.columns"
   ]
  },
  {
   "cell_type": "code",
   "execution_count": 6,
   "metadata": {},
   "outputs": [
    {
     "data": {
      "text/html": [
       "<div>\n",
       "<style scoped>\n",
       "    .dataframe tbody tr th:only-of-type {\n",
       "        vertical-align: middle;\n",
       "    }\n",
       "\n",
       "    .dataframe tbody tr th {\n",
       "        vertical-align: top;\n",
       "    }\n",
       "\n",
       "    .dataframe thead th {\n",
       "        text-align: right;\n",
       "    }\n",
       "</style>\n",
       "<table border=\"1\" class=\"dataframe\">\n",
       "  <thead>\n",
       "    <tr style=\"text-align: right;\">\n",
       "      <th></th>\n",
       "      <th>CensusId</th>\n",
       "      <th>State</th>\n",
       "      <th>County</th>\n",
       "      <th>TotalPop</th>\n",
       "      <th>Men</th>\n",
       "      <th>Women</th>\n",
       "      <th>Hispanic</th>\n",
       "      <th>White</th>\n",
       "      <th>Black</th>\n",
       "      <th>Native</th>\n",
       "      <th>...</th>\n",
       "      <th>Walk</th>\n",
       "      <th>OtherTransp</th>\n",
       "      <th>WorkAtHome</th>\n",
       "      <th>MeanCommute</th>\n",
       "      <th>Employed</th>\n",
       "      <th>PrivateWork</th>\n",
       "      <th>PublicWork</th>\n",
       "      <th>SelfEmployed</th>\n",
       "      <th>FamilyWork</th>\n",
       "      <th>Unemployment</th>\n",
       "    </tr>\n",
       "  </thead>\n",
       "  <tbody>\n",
       "    <tr>\n",
       "      <th>2516</th>\n",
       "      <td>47177</td>\n",
       "      <td>Tennessee</td>\n",
       "      <td>Warren</td>\n",
       "      <td>40015</td>\n",
       "      <td>19801</td>\n",
       "      <td>20214</td>\n",
       "      <td>8.4</td>\n",
       "      <td>86.5</td>\n",
       "      <td>1.3</td>\n",
       "      <td>0.1</td>\n",
       "      <td>...</td>\n",
       "      <td>1.4</td>\n",
       "      <td>1.1</td>\n",
       "      <td>3.3</td>\n",
       "      <td>24.0</td>\n",
       "      <td>16304</td>\n",
       "      <td>77.3</td>\n",
       "      <td>14.1</td>\n",
       "      <td>8.1</td>\n",
       "      <td>0.5</td>\n",
       "      <td>8.0</td>\n",
       "    </tr>\n",
       "    <tr>\n",
       "      <th>2079</th>\n",
       "      <td>39073</td>\n",
       "      <td>Ohio</td>\n",
       "      <td>Hocking</td>\n",
       "      <td>28914</td>\n",
       "      <td>14521</td>\n",
       "      <td>14393</td>\n",
       "      <td>0.8</td>\n",
       "      <td>96.7</td>\n",
       "      <td>0.8</td>\n",
       "      <td>0.0</td>\n",
       "      <td>...</td>\n",
       "      <td>1.8</td>\n",
       "      <td>1.0</td>\n",
       "      <td>3.1</td>\n",
       "      <td>31.2</td>\n",
       "      <td>12199</td>\n",
       "      <td>76.7</td>\n",
       "      <td>16.6</td>\n",
       "      <td>6.2</td>\n",
       "      <td>0.6</td>\n",
       "      <td>9.5</td>\n",
       "    </tr>\n",
       "    <tr>\n",
       "      <th>3213</th>\n",
       "      <td>72141</td>\n",
       "      <td>Puerto Rico</td>\n",
       "      <td>Utuado</td>\n",
       "      <td>31474</td>\n",
       "      <td>15368</td>\n",
       "      <td>16106</td>\n",
       "      <td>99.6</td>\n",
       "      <td>0.3</td>\n",
       "      <td>0.1</td>\n",
       "      <td>0.0</td>\n",
       "      <td>...</td>\n",
       "      <td>7.8</td>\n",
       "      <td>0.7</td>\n",
       "      <td>1.0</td>\n",
       "      <td>32.4</td>\n",
       "      <td>6819</td>\n",
       "      <td>58.0</td>\n",
       "      <td>34.0</td>\n",
       "      <td>7.3</td>\n",
       "      <td>0.7</td>\n",
       "      <td>28.8</td>\n",
       "    </tr>\n",
       "    <tr>\n",
       "      <th>2917</th>\n",
       "      <td>51530</td>\n",
       "      <td>Virginia</td>\n",
       "      <td>Buena Vista city</td>\n",
       "      <td>6666</td>\n",
       "      <td>3062</td>\n",
       "      <td>3604</td>\n",
       "      <td>1.4</td>\n",
       "      <td>88.9</td>\n",
       "      <td>1.1</td>\n",
       "      <td>0.0</td>\n",
       "      <td>...</td>\n",
       "      <td>7.0</td>\n",
       "      <td>2.5</td>\n",
       "      <td>1.4</td>\n",
       "      <td>15.6</td>\n",
       "      <td>2824</td>\n",
       "      <td>82.6</td>\n",
       "      <td>15.0</td>\n",
       "      <td>2.3</td>\n",
       "      <td>0.0</td>\n",
       "      <td>7.3</td>\n",
       "    </tr>\n",
       "    <tr>\n",
       "      <th>1115</th>\n",
       "      <td>22005</td>\n",
       "      <td>Louisiana</td>\n",
       "      <td>Ascension</td>\n",
       "      <td>114738</td>\n",
       "      <td>56848</td>\n",
       "      <td>57890</td>\n",
       "      <td>5.0</td>\n",
       "      <td>69.8</td>\n",
       "      <td>21.8</td>\n",
       "      <td>0.1</td>\n",
       "      <td>...</td>\n",
       "      <td>1.1</td>\n",
       "      <td>0.8</td>\n",
       "      <td>3.3</td>\n",
       "      <td>30.4</td>\n",
       "      <td>55380</td>\n",
       "      <td>81.6</td>\n",
       "      <td>13.4</td>\n",
       "      <td>4.9</td>\n",
       "      <td>0.1</td>\n",
       "      <td>6.4</td>\n",
       "    </tr>\n",
       "    <tr>\n",
       "      <th>3193</th>\n",
       "      <td>72101</td>\n",
       "      <td>Puerto Rico</td>\n",
       "      <td>Morovis</td>\n",
       "      <td>32294</td>\n",
       "      <td>16067</td>\n",
       "      <td>16227</td>\n",
       "      <td>99.8</td>\n",
       "      <td>0.1</td>\n",
       "      <td>0.0</td>\n",
       "      <td>0.0</td>\n",
       "      <td>...</td>\n",
       "      <td>4.7</td>\n",
       "      <td>1.2</td>\n",
       "      <td>1.0</td>\n",
       "      <td>37.9</td>\n",
       "      <td>7740</td>\n",
       "      <td>72.5</td>\n",
       "      <td>22.9</td>\n",
       "      <td>4.4</td>\n",
       "      <td>0.2</td>\n",
       "      <td>24.7</td>\n",
       "    </tr>\n",
       "    <tr>\n",
       "      <th>1818</th>\n",
       "      <td>35043</td>\n",
       "      <td>New Mexico</td>\n",
       "      <td>Sandoval</td>\n",
       "      <td>136638</td>\n",
       "      <td>67141</td>\n",
       "      <td>69497</td>\n",
       "      <td>36.9</td>\n",
       "      <td>45.5</td>\n",
       "      <td>1.9</td>\n",
       "      <td>11.9</td>\n",
       "      <td>...</td>\n",
       "      <td>1.3</td>\n",
       "      <td>1.5</td>\n",
       "      <td>5.7</td>\n",
       "      <td>29.2</td>\n",
       "      <td>58433</td>\n",
       "      <td>72.3</td>\n",
       "      <td>21.4</td>\n",
       "      <td>6.2</td>\n",
       "      <td>0.1</td>\n",
       "      <td>9.2</td>\n",
       "    </tr>\n",
       "    <tr>\n",
       "      <th>2172</th>\n",
       "      <td>40083</td>\n",
       "      <td>Oklahoma</td>\n",
       "      <td>Logan</td>\n",
       "      <td>44493</td>\n",
       "      <td>21995</td>\n",
       "      <td>22498</td>\n",
       "      <td>5.5</td>\n",
       "      <td>77.9</td>\n",
       "      <td>9.1</td>\n",
       "      <td>3.7</td>\n",
       "      <td>...</td>\n",
       "      <td>2.5</td>\n",
       "      <td>1.2</td>\n",
       "      <td>4.0</td>\n",
       "      <td>28.0</td>\n",
       "      <td>20281</td>\n",
       "      <td>76.0</td>\n",
       "      <td>18.0</td>\n",
       "      <td>5.8</td>\n",
       "      <td>0.2</td>\n",
       "      <td>6.0</td>\n",
       "    </tr>\n",
       "    <tr>\n",
       "      <th>1637</th>\n",
       "      <td>30079</td>\n",
       "      <td>Montana</td>\n",
       "      <td>Prairie</td>\n",
       "      <td>1372</td>\n",
       "      <td>733</td>\n",
       "      <td>639</td>\n",
       "      <td>0.8</td>\n",
       "      <td>96.1</td>\n",
       "      <td>0.0</td>\n",
       "      <td>1.1</td>\n",
       "      <td>...</td>\n",
       "      <td>7.2</td>\n",
       "      <td>1.1</td>\n",
       "      <td>20.0</td>\n",
       "      <td>13.8</td>\n",
       "      <td>543</td>\n",
       "      <td>46.4</td>\n",
       "      <td>23.6</td>\n",
       "      <td>27.4</td>\n",
       "      <td>2.6</td>\n",
       "      <td>8.1</td>\n",
       "    </tr>\n",
       "    <tr>\n",
       "      <th>757</th>\n",
       "      <td>18121</td>\n",
       "      <td>Indiana</td>\n",
       "      <td>Parke</td>\n",
       "      <td>17107</td>\n",
       "      <td>8098</td>\n",
       "      <td>9009</td>\n",
       "      <td>1.3</td>\n",
       "      <td>95.0</td>\n",
       "      <td>2.0</td>\n",
       "      <td>0.2</td>\n",
       "      <td>...</td>\n",
       "      <td>2.3</td>\n",
       "      <td>1.5</td>\n",
       "      <td>3.8</td>\n",
       "      <td>26.8</td>\n",
       "      <td>6730</td>\n",
       "      <td>79.6</td>\n",
       "      <td>13.0</td>\n",
       "      <td>7.1</td>\n",
       "      <td>0.2</td>\n",
       "      <td>7.8</td>\n",
       "    </tr>\n",
       "  </tbody>\n",
       "</table>\n",
       "<p>10 rows × 37 columns</p>\n",
       "</div>"
      ],
      "text/plain": [
       "      CensusId        State            County  TotalPop    Men  Women  \\\n",
       "2516     47177    Tennessee            Warren     40015  19801  20214   \n",
       "2079     39073         Ohio           Hocking     28914  14521  14393   \n",
       "3213     72141  Puerto Rico            Utuado     31474  15368  16106   \n",
       "2917     51530     Virginia  Buena Vista city      6666   3062   3604   \n",
       "1115     22005    Louisiana         Ascension    114738  56848  57890   \n",
       "3193     72101  Puerto Rico           Morovis     32294  16067  16227   \n",
       "1818     35043   New Mexico          Sandoval    136638  67141  69497   \n",
       "2172     40083     Oklahoma             Logan     44493  21995  22498   \n",
       "1637     30079      Montana           Prairie      1372    733    639   \n",
       "757      18121      Indiana             Parke     17107   8098   9009   \n",
       "\n",
       "      Hispanic  White  Black  Native  ...  Walk  OtherTransp  WorkAtHome  \\\n",
       "2516       8.4   86.5    1.3     0.1  ...   1.4          1.1         3.3   \n",
       "2079       0.8   96.7    0.8     0.0  ...   1.8          1.0         3.1   \n",
       "3213      99.6    0.3    0.1     0.0  ...   7.8          0.7         1.0   \n",
       "2917       1.4   88.9    1.1     0.0  ...   7.0          2.5         1.4   \n",
       "1115       5.0   69.8   21.8     0.1  ...   1.1          0.8         3.3   \n",
       "3193      99.8    0.1    0.0     0.0  ...   4.7          1.2         1.0   \n",
       "1818      36.9   45.5    1.9    11.9  ...   1.3          1.5         5.7   \n",
       "2172       5.5   77.9    9.1     3.7  ...   2.5          1.2         4.0   \n",
       "1637       0.8   96.1    0.0     1.1  ...   7.2          1.1        20.0   \n",
       "757        1.3   95.0    2.0     0.2  ...   2.3          1.5         3.8   \n",
       "\n",
       "      MeanCommute  Employed  PrivateWork  PublicWork  SelfEmployed  \\\n",
       "2516         24.0     16304         77.3        14.1           8.1   \n",
       "2079         31.2     12199         76.7        16.6           6.2   \n",
       "3213         32.4      6819         58.0        34.0           7.3   \n",
       "2917         15.6      2824         82.6        15.0           2.3   \n",
       "1115         30.4     55380         81.6        13.4           4.9   \n",
       "3193         37.9      7740         72.5        22.9           4.4   \n",
       "1818         29.2     58433         72.3        21.4           6.2   \n",
       "2172         28.0     20281         76.0        18.0           5.8   \n",
       "1637         13.8       543         46.4        23.6          27.4   \n",
       "757          26.8      6730         79.6        13.0           7.1   \n",
       "\n",
       "      FamilyWork  Unemployment  \n",
       "2516         0.5           8.0  \n",
       "2079         0.6           9.5  \n",
       "3213         0.7          28.8  \n",
       "2917         0.0           7.3  \n",
       "1115         0.1           6.4  \n",
       "3193         0.2          24.7  \n",
       "1818         0.1           9.2  \n",
       "2172         0.2           6.0  \n",
       "1637         2.6           8.1  \n",
       "757          0.2           7.8  \n",
       "\n",
       "[10 rows x 37 columns]"
      ]
     },
     "execution_count": 6,
     "metadata": {},
     "output_type": "execute_result"
    }
   ],
   "source": [
    "df.sample(10)"
   ]
  },
  {
   "cell_type": "markdown",
   "metadata": {},
   "source": [
    "- We will focus first on income per capita across counties."
   ]
  },
  {
   "cell_type": "code",
   "execution_count": 7,
   "metadata": {},
   "outputs": [
    {
     "data": {
      "text/plain": [
       "<Axes: >"
      ]
     },
     "execution_count": 7,
     "metadata": {},
     "output_type": "execute_result"
    },
    {
     "data": {
      "image/png": "[encoded data removed]",
      "text/plain": [
       "<Figure size 432x288 with 1 Axes>"
      ]
     },
     "metadata": {
      "needs_background": "light"
     },
     "output_type": "display_data"
    }
   ],
   "source": [
    "df['IncomePerCap'].hist(bins = 50)"
   ]
  },
  {
   "cell_type": "markdown",
   "metadata": {},
   "source": [
    "### 1. Calculating descriptive statisctics\n",
    "\n",
    "- Let's calculate basic descriptive statistics of the income per capita."
   ]
  },
  {
   "cell_type": "code",
   "execution_count": 8,
   "metadata": {},
   "outputs": [
    {
     "data": {
      "text/plain": [
       "count     3220.000000\n",
       "mean     23981.771739\n",
       "std       6204.339960\n",
       "min       5878.000000\n",
       "25%      20238.500000\n",
       "50%      23460.000000\n",
       "75%      27053.250000\n",
       "max      65600.000000\n",
       "Name: IncomePerCap, dtype: float64"
      ]
     },
     "execution_count": 8,
     "metadata": {},
     "output_type": "execute_result"
    }
   ],
   "source": [
    "df['IncomePerCap'].describe()"
   ]
  },
  {
   "cell_type": "markdown",
   "metadata": {},
   "source": [
    "- What distribution does the data come from? Here is how we can test the goodness of the fit."
   ]
  },
  {
   "cell_type": "code",
   "execution_count": 10,
   "metadata": {},
   "outputs": [
    {
     "data": {
      "text/plain": [
       "(0.0637621121184162, 0.0009999999999998899)"
      ]
     },
     "execution_count": 10,
     "metadata": {},
     "output_type": "execute_result"
    }
   ],
   "source": [
    "# does the data come from a normal distrbution?\n",
    "'''\n",
    "- It performs Kolmogorov-Smirnov test (KS test)\n",
    "- KS test check if the data in the 'IncomePerCap' col follows a certain distribution. Below, we check if it's Normal distribution since argument is (dist='norm')\n",
    "- Ho: values come from Normal dist , Ha: values do NOT come from Normal dist\n",
    "- The test will return two values:\n",
    "    1. Test Statistic: \n",
    "        - A value that indicates how different the sample distribution is from a Normal distribution. Its actually maximum abs difference between your dist and Normal dist (or dist your'e checking)\n",
    "        - High value under Ha i-e when values do NOT come from Normal dist\n",
    "        - Small value (close to 0) under Ho, indicating value come from a Normal dist.\n",
    "    2. P-value: \n",
    "        - If it's low e.g,  <0.05, it means we reject null hypothesis i-e value do NOT come from a Normal distribution.\n",
    "        - If it's high e.g, >0.05, it means Ho is likely i-e value come from a Normal dist and there's no evidence to reject this idea\n",
    "\n",
    "- Analysis of output:\n",
    "    - From the output, test-statisic = S = 0.06376, p-value: 0.00099 < 0.05 --> we reject Ho i-e we reject that it's Normal dist.\n",
    "    - High S value, more likely it's NOT Normal since S is large under Ha. \n",
    "    - P(S >= 0.06376 | Ho) = 0.0099 < 0.05 --> It's unlikely that extreme value of 0.06376 (indicating it's NOT normal) happens by chance since prob low, so it means we get more support for Ha i-e values do NOT belong to Normal dist\n",
    "'''\n",
    "#diagnostic.kstest_normal(df['IncomePerCap'].values, dist = 'norm')\n",
    "diagnostic.kstest_normal(df['IncomePerCap'], dist = 'norm') # same as above"
   ]
  },
  {
   "cell_type": "markdown",
   "metadata": {},
   "source": [
    "- p_value < 0.05 -> we can reject the null hypothesis that the data comes from a normal distribution!"
   ]
  },
  {
   "cell_type": "code",
   "execution_count": 11,
   "metadata": {},
   "outputs": [
    {
     "data": {
      "text/plain": [
       "(0.433243770582646, 0.0009999999999998899)"
      ]
     },
     "execution_count": 11,
     "metadata": {},
     "output_type": "execute_result"
    }
   ],
   "source": [
    "#how about exponential?\n",
    "diagnostic.kstest_normal(df['IncomePerCap'].values, dist = 'exp')"
   ]
  },
  {
   "cell_type": "markdown",
   "metadata": {},
   "source": [
    "- p < 0.05 -> not exponential either!"
   ]
  },
  {
   "cell_type": "markdown",
   "metadata": {},
   "source": [
    "### 2. How to sample the data"
   ]
  },
  {
   "cell_type": "markdown",
   "metadata": {},
   "source": [
    "- Often we need to find random samples from the dataset. We can do so conveniently with pandas wrappers."
   ]
  },
  {
   "cell_type": "code",
   "execution_count": 12,
   "metadata": {},
   "outputs": [],
   "source": [
    "#make 10 samples with replacement\n",
    "sample1_counties = df.sample(n = 10, replace = True)\n",
    "\n",
    "#make 10 samples without replacement\n",
    "sample1_counties = df.sample(n = 10, replace = False)\n",
    "\n",
    "#sometimes we want to sample in an ublanaced way, so that we upsample datapoints of certain characteristic,\n",
    "#and downsample the others. this can be acieved with weights parameter\n",
    "#here we sample by upsampling counties with large population\n",
    "sample2_counties = df.sample(n = 10, replace = False, weights = df['TotalPop'])"
   ]
  },
  {
   "cell_type": "code",
   "execution_count": 13,
   "metadata": {},
   "outputs": [
    {
     "name": "stdout",
     "output_type": "stream",
     "text": [
      "77354.3\n",
      "869444.9\n"
     ]
    }
   ],
   "source": [
    "#on avergage, the samples in the sample produce with weighting now have higher population, as we wanted!\n",
    "print(sample1_counties['TotalPop'].mean())\n",
    "print(sample2_counties['TotalPop'].mean())"
   ]
  },
  {
   "cell_type": "markdown",
   "metadata": {},
   "source": [
    "### 3. Examining relationship between two variables"
   ]
  },
  {
   "cell_type": "markdown",
   "metadata": {},
   "source": [
    "- Is income per capita of a county correlated with the unemployment?"
   ]
  },
  {
   "cell_type": "code",
   "execution_count": 14,
   "metadata": {},
   "outputs": [
    {
     "data": {
      "text/plain": [
       "PearsonRResult(statistic=0.26461363203944877, pvalue=9.942215354238633e-53)"
      ]
     },
     "execution_count": 14,
     "metadata": {},
     "output_type": "execute_result"
    }
   ],
   "source": [
    "'''\n",
    "Pearson Correlation:\n",
    "    - Measures linear relationship between two variables.\n",
    "    - Range of Values:\n",
    "        -  1: Perfect positive linear relationship \n",
    "        - -1: Perfect negative linear relationship \n",
    "        -  0: No linear relationship\n",
    "    - Assumption: The data should be Normally distributed and the relationship between the variables should be linear.\n",
    "\n",
    "Output analysis:\n",
    "    - statistic=0.2646: \n",
    "        - This is the Pearson correlation coefficient value. It shows a weak positive correlation of about 0.265 between IncomePerCap and Employed since it is closer to +1.\n",
    "    - pvalue=9.942e-53: \n",
    "        - This p-value indicates the statistical significance of the correlation. \n",
    "        - A small p-value (e.g, <0.05) suggests that the correlation is statistically significant i-e did not happen by chance, meaning there is strong evidence against the null hypothesis (no relationship b/w the variables).\n",
    "\n",
    "'''\n",
    "stats.pearsonr(df['IncomePerCap'],df['Employed'])"
   ]
  },
  {
   "cell_type": "markdown",
   "metadata": {},
   "source": [
    "- There is a small (0.26), but significant (p < 0.05) positive correlation."
   ]
  },
  {
   "cell_type": "code",
   "execution_count": 16,
   "metadata": {},
   "outputs": [
    {
     "data": {
      "text/plain": [
       "SignificanceResult(statistic=0.30770631560595474, pvalue=1.415296431173735e-71)"
      ]
     },
     "execution_count": 16,
     "metadata": {},
     "output_type": "execute_result"
    }
   ],
   "source": [
    "'''\n",
    "Pearman Correlation:\n",
    "    - Measures monotonic relationship between two variables, meaning the variables consistently increase or decrease but not necessarily in a linear fashion.\n",
    "    - Range & values: same as Peason correlation. \n",
    "    - Assumption: No specific distribution requirement.\n",
    "    - Use case: When you have nonlinear relationships or ranked data. This metric tells you how well the ranks of the two variables align. It is more robust to outliers than Pearson.\n",
    "'''\n",
    "stats.spearmanr(df['IncomePerCap'],df['Employed'])"
   ]
  },
  {
   "cell_type": "markdown",
   "metadata": {},
   "source": [
    "- Spearman rank coorrelation is also significant."
   ]
  },
  {
   "cell_type": "markdown",
   "metadata": {},
   "source": [
    "### 4. Hypothesis testing"
   ]
  },
  {
   "cell_type": "markdown",
   "metadata": {},
   "source": [
    "- Is income per capita higher in New York counties compared to California counties?"
   ]
  },
  {
   "cell_type": "code",
   "execution_count": 18,
   "metadata": {},
   "outputs": [
    {
     "data": {
      "text/plain": [
       "28189.75806451613"
      ]
     },
     "execution_count": 18,
     "metadata": {},
     "output_type": "execute_result"
    }
   ],
   "source": [
    "df.loc[df['State'] == 'New York']['IncomePerCap'].mean()\n",
    "df[df['State'] == 'New York']['IncomePerCap'].mean() # same as above"
   ]
  },
  {
   "cell_type": "code",
   "execution_count": 19,
   "metadata": {},
   "outputs": [
    {
     "data": {
      "text/plain": [
       "27902.603448275862"
      ]
     },
     "execution_count": 19,
     "metadata": {},
     "output_type": "execute_result"
    }
   ],
   "source": [
    "df.loc[df['State'] == 'California']['IncomePerCap'].mean()"
   ]
  },
  {
   "cell_type": "markdown",
   "metadata": {},
   "source": [
    "- We see that there is a ~300$ gap. Quite a lot!\n",
    "- But is it significantly higher? Let's use a t-test. This is a two-sided test for the null hypothesis that the two independent samples have identical average (expected) values. "
   ]
  },
  {
   "cell_type": "code",
   "execution_count": 20,
   "metadata": {},
   "outputs": [
    {
     "data": {
      "text/plain": [
       "Ttest_indResult(statistic=0.19788117232375713, pvalue=0.8434785239169611)"
      ]
     },
     "execution_count": 20,
     "metadata": {},
     "output_type": "execute_result"
    }
   ],
   "source": [
    "'''\n",
    "t-test:\n",
    "    - Measures whether there is a significant difference between the means of two independent groups/samples.\n",
    "    - Ho: The two groups/samples have similar/same averages. Ha: The two groups do NOT have same averages\n",
    "    - t-test's test statistic value is large under Ha and smaller under Ho i-e higher value means groups/samples do NOT have same averages.\n",
    "\n",
    "Output analysis:\n",
    "    - statistic=0.197:\n",
    "        - This is test statistic value. It indicates how many standard deviations the \"difference between the two means of the two groups\" is from zero.\n",
    "        - Large value under Ha i-e when groups do NOT have same averages. \n",
    "        - A higher value indicates that the means of two groups are different, and value close to 0 suggests that the means of the two groups are quite similar.\n",
    "    - pvalue=0.8434:\n",
    "        - It's >0.05, meaning we can NOT reject Ho, we accept Ho. This extreme value of 0.197 or more has high probability and can happen by chance i-e we can't say averages of two groups are same.\n",
    "        - In other words, the data does not provide enough evidence to say that the average of per capita income of the two states is different; the observed difference could simply be due to random chance.\n",
    "'''\n",
    "stats.ttest_ind( df.loc[df['State'] == 'New York']['IncomePerCap'] ,  df.loc[df['State'] == 'California']['IncomePerCap'] )"
   ]
  },
  {
   "cell_type": "markdown",
   "metadata": {},
   "source": [
    "- p is not smaller than 0.05 -> we cannot reject the null hypothesis that the income is the same -> there is no significant difference"
   ]
  },
  {
   "cell_type": "markdown",
   "metadata": {},
   "source": [
    "### 5. How to measure uncertainty\n",
    "- Now we see the importance of mesuring uncertainty and indicating it on data visualizations.\n",
    "- Visual inspection of 95% confidence intervals lets us see that the difference is not significant (the errorbars are overlapping)."
   ]
  },
  {
   "cell_type": "code",
   "execution_count": 21,
   "metadata": {},
   "outputs": [
    {
     "data": {
      "text/plain": [
       "(25000.0, 32000.0)"
      ]
     },
     "execution_count": 21,
     "metadata": {},
     "output_type": "execute_result"
    },
    {
     "data": {
      "image/png": "[encoded data removed]",
      "text/plain": [
       "<Figure size 432x288 with 1 Axes>"
      ]
     },
     "metadata": {
      "needs_background": "light"
     },
     "output_type": "display_data"
    }
   ],
   "source": [
    "'''\n",
    "- Below automatically displays error bars.\n",
    "- Error bars are big, meaning that the difference we see between California and New York is actually not that significant\n",
    "'''\n",
    "ax = sns.barplot(x=\"State\", y=\"IncomePerCap\", data=df.loc[df['State'].isin(['New York','California'])])\n",
    "plt.ylim([25000,32000])"
   ]
  },
  {
   "cell_type": "markdown",
   "metadata": {},
   "source": [
    "# Exercise 1: Boosting the economy by incentivizing self-employment\n",
    "\n",
    "Assume the biggest priority of the local government in 2018 is to increase per-capita income. To do so, the officials plan to adopt a strategy for incentivizing self-employment through a series of campaigns, educational programs, and dedicated funds.\n",
    "\n",
    "Since it is unethical and impossible in this setting to run a controlled experiment involving citizens (e.g., fire employees and force them to self-employ), the officials have asked you, the data scientist, to establish the effect of self-employment on the economy, relying on observational data.\n",
    "\n",
    "**A)** Using suitable methods, determine and quantify the dependency between the percentage of self-employed citizens and per capita income across all 3,212 US counties. Do citizens in counties that have a higher percentage of self-employed people earn more per capita?"
   ]
  },
  {
   "cell_type": "code",
   "execution_count": 22,
   "metadata": {},
   "outputs": [
    {
     "data": {
      "text/html": [
       "<div>\n",
       "<style scoped>\n",
       "    .dataframe tbody tr th:only-of-type {\n",
       "        vertical-align: middle;\n",
       "    }\n",
       "\n",
       "    .dataframe tbody tr th {\n",
       "        vertical-align: top;\n",
       "    }\n",
       "\n",
       "    .dataframe thead th {\n",
       "        text-align: right;\n",
       "    }\n",
       "</style>\n",
       "<table border=\"1\" class=\"dataframe\">\n",
       "  <thead>\n",
       "    <tr style=\"text-align: right;\">\n",
       "      <th></th>\n",
       "      <th>CensusId</th>\n",
       "      <th>State</th>\n",
       "      <th>County</th>\n",
       "      <th>TotalPop</th>\n",
       "      <th>Men</th>\n",
       "      <th>Women</th>\n",
       "      <th>Hispanic</th>\n",
       "      <th>White</th>\n",
       "      <th>Black</th>\n",
       "      <th>Native</th>\n",
       "      <th>...</th>\n",
       "      <th>Walk</th>\n",
       "      <th>OtherTransp</th>\n",
       "      <th>WorkAtHome</th>\n",
       "      <th>MeanCommute</th>\n",
       "      <th>Employed</th>\n",
       "      <th>PrivateWork</th>\n",
       "      <th>PublicWork</th>\n",
       "      <th>SelfEmployed</th>\n",
       "      <th>FamilyWork</th>\n",
       "      <th>Unemployment</th>\n",
       "    </tr>\n",
       "  </thead>\n",
       "  <tbody>\n",
       "    <tr>\n",
       "      <th>0</th>\n",
       "      <td>1001</td>\n",
       "      <td>Alabama</td>\n",
       "      <td>Autauga</td>\n",
       "      <td>55221</td>\n",
       "      <td>26745</td>\n",
       "      <td>28476</td>\n",
       "      <td>2.6</td>\n",
       "      <td>75.8</td>\n",
       "      <td>18.5</td>\n",
       "      <td>0.4</td>\n",
       "      <td>...</td>\n",
       "      <td>0.5</td>\n",
       "      <td>1.3</td>\n",
       "      <td>1.8</td>\n",
       "      <td>26.5</td>\n",
       "      <td>23986</td>\n",
       "      <td>73.6</td>\n",
       "      <td>20.9</td>\n",
       "      <td>5.5</td>\n",
       "      <td>0.0</td>\n",
       "      <td>7.6</td>\n",
       "    </tr>\n",
       "    <tr>\n",
       "      <th>1</th>\n",
       "      <td>1003</td>\n",
       "      <td>Alabama</td>\n",
       "      <td>Baldwin</td>\n",
       "      <td>195121</td>\n",
       "      <td>95314</td>\n",
       "      <td>99807</td>\n",
       "      <td>4.5</td>\n",
       "      <td>83.1</td>\n",
       "      <td>9.5</td>\n",
       "      <td>0.6</td>\n",
       "      <td>...</td>\n",
       "      <td>1.0</td>\n",
       "      <td>1.4</td>\n",
       "      <td>3.9</td>\n",
       "      <td>26.4</td>\n",
       "      <td>85953</td>\n",
       "      <td>81.5</td>\n",
       "      <td>12.3</td>\n",
       "      <td>5.8</td>\n",
       "      <td>0.4</td>\n",
       "      <td>7.5</td>\n",
       "    </tr>\n",
       "    <tr>\n",
       "      <th>2</th>\n",
       "      <td>1005</td>\n",
       "      <td>Alabama</td>\n",
       "      <td>Barbour</td>\n",
       "      <td>26932</td>\n",
       "      <td>14497</td>\n",
       "      <td>12435</td>\n",
       "      <td>4.6</td>\n",
       "      <td>46.2</td>\n",
       "      <td>46.7</td>\n",
       "      <td>0.2</td>\n",
       "      <td>...</td>\n",
       "      <td>1.8</td>\n",
       "      <td>1.5</td>\n",
       "      <td>1.6</td>\n",
       "      <td>24.1</td>\n",
       "      <td>8597</td>\n",
       "      <td>71.8</td>\n",
       "      <td>20.8</td>\n",
       "      <td>7.3</td>\n",
       "      <td>0.1</td>\n",
       "      <td>17.6</td>\n",
       "    </tr>\n",
       "    <tr>\n",
       "      <th>3</th>\n",
       "      <td>1007</td>\n",
       "      <td>Alabama</td>\n",
       "      <td>Bibb</td>\n",
       "      <td>22604</td>\n",
       "      <td>12073</td>\n",
       "      <td>10531</td>\n",
       "      <td>2.2</td>\n",
       "      <td>74.5</td>\n",
       "      <td>21.4</td>\n",
       "      <td>0.4</td>\n",
       "      <td>...</td>\n",
       "      <td>0.6</td>\n",
       "      <td>1.5</td>\n",
       "      <td>0.7</td>\n",
       "      <td>28.8</td>\n",
       "      <td>8294</td>\n",
       "      <td>76.8</td>\n",
       "      <td>16.1</td>\n",
       "      <td>6.7</td>\n",
       "      <td>0.4</td>\n",
       "      <td>8.3</td>\n",
       "    </tr>\n",
       "    <tr>\n",
       "      <th>4</th>\n",
       "      <td>1009</td>\n",
       "      <td>Alabama</td>\n",
       "      <td>Blount</td>\n",
       "      <td>57710</td>\n",
       "      <td>28512</td>\n",
       "      <td>29198</td>\n",
       "      <td>8.6</td>\n",
       "      <td>87.9</td>\n",
       "      <td>1.5</td>\n",
       "      <td>0.3</td>\n",
       "      <td>...</td>\n",
       "      <td>0.9</td>\n",
       "      <td>0.4</td>\n",
       "      <td>2.3</td>\n",
       "      <td>34.9</td>\n",
       "      <td>22189</td>\n",
       "      <td>82.0</td>\n",
       "      <td>13.5</td>\n",
       "      <td>4.2</td>\n",
       "      <td>0.4</td>\n",
       "      <td>7.7</td>\n",
       "    </tr>\n",
       "    <tr>\n",
       "      <th>...</th>\n",
       "      <td>...</td>\n",
       "      <td>...</td>\n",
       "      <td>...</td>\n",
       "      <td>...</td>\n",
       "      <td>...</td>\n",
       "      <td>...</td>\n",
       "      <td>...</td>\n",
       "      <td>...</td>\n",
       "      <td>...</td>\n",
       "      <td>...</td>\n",
       "      <td>...</td>\n",
       "      <td>...</td>\n",
       "      <td>...</td>\n",
       "      <td>...</td>\n",
       "      <td>...</td>\n",
       "      <td>...</td>\n",
       "      <td>...</td>\n",
       "      <td>...</td>\n",
       "      <td>...</td>\n",
       "      <td>...</td>\n",
       "      <td>...</td>\n",
       "    </tr>\n",
       "    <tr>\n",
       "      <th>3215</th>\n",
       "      <td>72145</td>\n",
       "      <td>Puerto Rico</td>\n",
       "      <td>Vega Baja</td>\n",
       "      <td>56858</td>\n",
       "      <td>27379</td>\n",
       "      <td>29479</td>\n",
       "      <td>96.4</td>\n",
       "      <td>3.4</td>\n",
       "      <td>0.1</td>\n",
       "      <td>0.0</td>\n",
       "      <td>...</td>\n",
       "      <td>1.2</td>\n",
       "      <td>1.3</td>\n",
       "      <td>0.3</td>\n",
       "      <td>32.0</td>\n",
       "      <td>13660</td>\n",
       "      <td>78.3</td>\n",
       "      <td>17.6</td>\n",
       "      <td>4.1</td>\n",
       "      <td>0.0</td>\n",
       "      <td>15.2</td>\n",
       "    </tr>\n",
       "    <tr>\n",
       "      <th>3216</th>\n",
       "      <td>72147</td>\n",
       "      <td>Puerto Rico</td>\n",
       "      <td>Vieques</td>\n",
       "      <td>9130</td>\n",
       "      <td>4585</td>\n",
       "      <td>4545</td>\n",
       "      <td>96.7</td>\n",
       "      <td>2.9</td>\n",
       "      <td>0.0</td>\n",
       "      <td>0.0</td>\n",
       "      <td>...</td>\n",
       "      <td>10.8</td>\n",
       "      <td>0.0</td>\n",
       "      <td>1.4</td>\n",
       "      <td>14.0</td>\n",
       "      <td>2860</td>\n",
       "      <td>44.5</td>\n",
       "      <td>41.6</td>\n",
       "      <td>13.6</td>\n",
       "      <td>0.3</td>\n",
       "      <td>12.2</td>\n",
       "    </tr>\n",
       "    <tr>\n",
       "      <th>3217</th>\n",
       "      <td>72149</td>\n",
       "      <td>Puerto Rico</td>\n",
       "      <td>Villalba</td>\n",
       "      <td>24685</td>\n",
       "      <td>12086</td>\n",
       "      <td>12599</td>\n",
       "      <td>99.7</td>\n",
       "      <td>0.0</td>\n",
       "      <td>0.0</td>\n",
       "      <td>0.0</td>\n",
       "      <td>...</td>\n",
       "      <td>3.2</td>\n",
       "      <td>0.0</td>\n",
       "      <td>3.3</td>\n",
       "      <td>26.9</td>\n",
       "      <td>6795</td>\n",
       "      <td>59.2</td>\n",
       "      <td>27.5</td>\n",
       "      <td>13.1</td>\n",
       "      <td>0.2</td>\n",
       "      <td>25.9</td>\n",
       "    </tr>\n",
       "    <tr>\n",
       "      <th>3218</th>\n",
       "      <td>72151</td>\n",
       "      <td>Puerto Rico</td>\n",
       "      <td>Yabucoa</td>\n",
       "      <td>36279</td>\n",
       "      <td>17648</td>\n",
       "      <td>18631</td>\n",
       "      <td>99.8</td>\n",
       "      <td>0.2</td>\n",
       "      <td>0.0</td>\n",
       "      <td>0.0</td>\n",
       "      <td>...</td>\n",
       "      <td>2.3</td>\n",
       "      <td>2.3</td>\n",
       "      <td>1.5</td>\n",
       "      <td>29.5</td>\n",
       "      <td>8083</td>\n",
       "      <td>65.1</td>\n",
       "      <td>27.6</td>\n",
       "      <td>7.3</td>\n",
       "      <td>0.0</td>\n",
       "      <td>24.3</td>\n",
       "    </tr>\n",
       "    <tr>\n",
       "      <th>3219</th>\n",
       "      <td>72153</td>\n",
       "      <td>Puerto Rico</td>\n",
       "      <td>Yauco</td>\n",
       "      <td>39474</td>\n",
       "      <td>19047</td>\n",
       "      <td>20427</td>\n",
       "      <td>99.5</td>\n",
       "      <td>0.5</td>\n",
       "      <td>0.0</td>\n",
       "      <td>0.0</td>\n",
       "      <td>...</td>\n",
       "      <td>1.6</td>\n",
       "      <td>0.7</td>\n",
       "      <td>3.1</td>\n",
       "      <td>24.6</td>\n",
       "      <td>8923</td>\n",
       "      <td>68.0</td>\n",
       "      <td>27.6</td>\n",
       "      <td>4.4</td>\n",
       "      <td>0.0</td>\n",
       "      <td>27.1</td>\n",
       "    </tr>\n",
       "  </tbody>\n",
       "</table>\n",
       "<p>3220 rows × 37 columns</p>\n",
       "</div>"
      ],
      "text/plain": [
       "      CensusId        State     County  TotalPop    Men  Women  Hispanic  \\\n",
       "0         1001      Alabama    Autauga     55221  26745  28476       2.6   \n",
       "1         1003      Alabama    Baldwin    195121  95314  99807       4.5   \n",
       "2         1005      Alabama    Barbour     26932  14497  12435       4.6   \n",
       "3         1007      Alabama       Bibb     22604  12073  10531       2.2   \n",
       "4         1009      Alabama     Blount     57710  28512  29198       8.6   \n",
       "...        ...          ...        ...       ...    ...    ...       ...   \n",
       "3215     72145  Puerto Rico  Vega Baja     56858  27379  29479      96.4   \n",
       "3216     72147  Puerto Rico    Vieques      9130   4585   4545      96.7   \n",
       "3217     72149  Puerto Rico   Villalba     24685  12086  12599      99.7   \n",
       "3218     72151  Puerto Rico    Yabucoa     36279  17648  18631      99.8   \n",
       "3219     72153  Puerto Rico      Yauco     39474  19047  20427      99.5   \n",
       "\n",
       "      White  Black  Native  ...  Walk  OtherTransp  WorkAtHome  MeanCommute  \\\n",
       "0      75.8   18.5     0.4  ...   0.5          1.3         1.8         26.5   \n",
       "1      83.1    9.5     0.6  ...   1.0          1.4         3.9         26.4   \n",
       "2      46.2   46.7     0.2  ...   1.8          1.5         1.6         24.1   \n",
       "3      74.5   21.4     0.4  ...   0.6          1.5         0.7         28.8   \n",
       "4      87.9    1.5     0.3  ...   0.9          0.4         2.3         34.9   \n",
       "...     ...    ...     ...  ...   ...          ...         ...          ...   \n",
       "3215    3.4    0.1     0.0  ...   1.2          1.3         0.3         32.0   \n",
       "3216    2.9    0.0     0.0  ...  10.8          0.0         1.4         14.0   \n",
       "3217    0.0    0.0     0.0  ...   3.2          0.0         3.3         26.9   \n",
       "3218    0.2    0.0     0.0  ...   2.3          2.3         1.5         29.5   \n",
       "3219    0.5    0.0     0.0  ...   1.6          0.7         3.1         24.6   \n",
       "\n",
       "      Employed  PrivateWork  PublicWork  SelfEmployed  FamilyWork  \\\n",
       "0        23986         73.6        20.9           5.5         0.0   \n",
       "1        85953         81.5        12.3           5.8         0.4   \n",
       "2         8597         71.8        20.8           7.3         0.1   \n",
       "3         8294         76.8        16.1           6.7         0.4   \n",
       "4        22189         82.0        13.5           4.2         0.4   \n",
       "...        ...          ...         ...           ...         ...   \n",
       "3215     13660         78.3        17.6           4.1         0.0   \n",
       "3216      2860         44.5        41.6          13.6         0.3   \n",
       "3217      6795         59.2        27.5          13.1         0.2   \n",
       "3218      8083         65.1        27.6           7.3         0.0   \n",
       "3219      8923         68.0        27.6           4.4         0.0   \n",
       "\n",
       "      Unemployment  \n",
       "0              7.6  \n",
       "1              7.5  \n",
       "2             17.6  \n",
       "3              8.3  \n",
       "4              7.7  \n",
       "...            ...  \n",
       "3215          15.2  \n",
       "3216          12.2  \n",
       "3217          25.9  \n",
       "3218          24.3  \n",
       "3219          27.1  \n",
       "\n",
       "[3220 rows x 37 columns]"
      ]
     },
     "execution_count": 22,
     "metadata": {},
     "output_type": "execute_result"
    }
   ],
   "source": [
    "df"
   ]
  },
  {
   "cell_type": "code",
   "execution_count": 46,
   "metadata": {},
   "outputs": [
    {
     "name": "stdout",
     "output_type": "stream",
     "text": [
      "kstest: ts=0.064, p_val=0.001\n",
      "pearson: test_stat=0.087, p_val=0.0000007\n",
      "spearman: test_stat=0.056, p_val=0.0013624\n",
      "\n",
      "Q. Do citizens in counties that have a higher percentage of self-employed people earn more per capita?\n",
      "Ans. No. Both Pearson & Spearman coefficient between \"Income per Capita\" & \"Self Employed\" are close to 0 and stastistically signiciant (p_value < 0.05).\n",
      "\n"
     ]
    },
    {
     "data": {
      "image/png": "[encoded data removed]",
      "text/plain": [
       "<Figure size 432x288 with 1 Axes>"
      ]
     },
     "metadata": {
      "needs_background": "light"
     },
     "output_type": "display_data"
    },
    {
     "data": {
      "image/png": "[encoded data removed]",
      "text/plain": [
       "<Figure size 432x288 with 1 Axes>"
      ]
     },
     "metadata": {
      "needs_background": "light"
     },
     "output_type": "display_data"
    }
   ],
   "source": [
    "### your code and or answer here ###\n",
    "\n",
    "# check if IncomePerCap is Normally distributed:\n",
    "ts, p_val = diagnostic.kstest_normal(df['IncomePerCap'], dist = 'norm') # same as above\n",
    "print(f\"kstest: ts={ts:.3f}, p_val={p_val:0.3f}\") # test stastic= 0.063 (clost to 0), p-value=0.000999 < 0.05 (stasticially significant). So, it's safe to say it's Normally Dist. So, we can use Pearson Coefficient to measure linear dependence.\n",
    "df['IncomePerCap'].plot.hist(bins=100)\n",
    "plt.title(\"IncomePerCap\")\n",
    "\n",
    "# pearson correlation coefficient\n",
    "ts, p_val = stats.pearsonr(df['IncomePerCap'],df['SelfEmployed']) \n",
    "print(f\"pearson: test_stat={ts:.3f}, p_val={p_val:0.7f}\") # test stastic= 0.087 (close to 0), p-value=0.0000007 < 0.05 (stasticially significant). So, they are NOT linearly correlated & this result is statsitically significant.\n",
    "df.plot.scatter(x=\"SelfEmployed\",y=\"IncomePerCap\") # it's also evident visibly when we plot\n",
    "\n",
    "# spearman correlation coefficient\n",
    "ts, p_val = stats.spearmanr(df['IncomePerCap'],df['SelfEmployed'])\n",
    "print(f\"spearman: test_stat={ts:.3f}, p_val={p_val:0.7f}\") # test stastic= 0.056 (close to 0), p-value=0.00136 < 0.05 (stasticially significant). So, they are NOT monotonically correlated & this result is statsitically significant.\n",
    "\n",
    "print('''\n",
    "Q. Do citizens in counties that have a higher percentage of self-employed people earn more per capita?\n",
    "Ans. No. Both Pearson & Spearman coefficient between \"Income per Capita\" & \"Self Employed\" are close to 0 and stastistically signiciant (p_value < 0.05).\n",
    "''')\n"
   ]
  },
  {
   "cell_type": "markdown",
   "metadata": {},
   "source": [
    "**B)** The pilot program will involve all counties within a limited set of three US states. Set A includes Wisconsin, Tennessee, and  Minnesota. Quantify the dependency of per-capita income on self-employment rates across all the counties in set A."
   ]
  },
  {
   "cell_type": "code",
   "execution_count": 56,
   "metadata": {},
   "outputs": [
    {
     "name": "stdout",
     "output_type": "stream",
     "text": [
      "pearson: test_stat=-0.202, p_val=0.0011882\n",
      "spearman: test_stat=-0.237, p_val=0.0001401\n",
      "\n",
      "Q. Quantify the dependency of per-capita income on self-employment rates across all the counties in set A.\n",
      "Ans. They are weakly -vely correlated in set A. Both Pearson & Spearman coefficient between \"Income per Capita\" & \"Self Employed\" here is slightly -ve (closer to -1) and stastistically signiciant (p_value < 0.05).\n",
      "\n"
     ]
    }
   ],
   "source": [
    "### your code and or answer here ###\n",
    "df_A = df[df[\"State\"].isin([\"Wisconsin\", \"Tennessee\", \"Minnesota\"])]\n",
    "\n",
    "# pearson correlation coefficient\n",
    "ts, p_val = stats.pearsonr(df_A['IncomePerCap'], df_A['SelfEmployed']) \n",
    "print(f\"pearson: test_stat={ts:.3f}, p_val={p_val:0.7f}\") # test stastic= -0.202 (slightly closer to -1), p-value=0.00118 < 0.05 (stasticially significant). So, they are weakkly -vely linearly correlated & this result is statsitically significant.\n",
    "\n",
    "# spearman correlation coefficient\n",
    "ts, p_val = stats.spearmanr(df_A['IncomePerCap'], df_A['SelfEmployed'])\n",
    "print(f\"spearman: test_stat={ts:.3f}, p_val={p_val:0.7f}\") # test stastic= 00.237 (slightly closer to -1)), p-value=0.0014 < 0.05 (stasticially significant). So, they are weakly -vely monotonically correlated & this result is statsitically significant.\n",
    "\n",
    "print('''\n",
    "Q. Quantify the dependency of per-capita income on self-employment rates across all the counties in set A.\n",
    "Ans. They are weakly -vely correlated in set A. Both Pearson & Spearman coefficient between \"Income per Capita\" & \"Self Employed\" here is slightly -ve (closer to -1) and stastistically signiciant (p_value < 0.05).\n",
    "''')"
   ]
  },
  {
   "cell_type": "markdown",
   "metadata": {},
   "source": [
    "**C)** In which state within set A is the observed effect of self-employment on per-capita income the strongest?"
   ]
  },
  {
   "cell_type": "code",
   "execution_count": 111,
   "metadata": {},
   "outputs": [
    {
     "name": "stdout",
     "output_type": "stream",
     "text": [
      "            pearson  pearson_pval  spearman  spearman_pval\n",
      "State                                                     \n",
      "Minnesota -0.253855      0.017665 -0.211075       0.049708\n",
      "Tennessee -0.238360      0.020012 -0.316991       0.001749\n",
      "Wisconsin -0.329053      0.004768 -0.463513       0.000041\n",
      "\n",
      "Wisconsin has the strongest effect of self-emplotement on per-capita income (since it's spearman coeff 0.329 is closest to ±1) and p_val 0.0048 <0.05)\n"
     ]
    }
   ],
   "source": [
    "### your code and or answer here ###\n",
    "df_A_grouped = df_A.groupby(\"State\").apply(lambda group: pd.Series(stats.pearsonr(group['IncomePerCap'], group['SelfEmployed']) + stats.spearmanr(group['IncomePerCap'], group['SelfEmployed']), index=[\"pearson\", \"pearson_pval\", \"spearman\", \"spearman_pval\"]))\n",
    "print(df_A_grouped.head())\n",
    "\n",
    "max_abs_pearson = df_A_grouped[\"pearson\"].abs().max() # only returns max abs value\n",
    "state = df_A_grouped[\"pearson\"].abs().idxmax()\n",
    "p_val = df_A_grouped.loc[state][\"pearson_pval\"]\n",
    "\n",
    "print(f\"\\n{state} has the strongest effect of self-emplotement on per-capita income (since it's spearman coeff {max_abs_pearson:.3f} is closest to ±1) and p_val {p_val:.4f} <0.05)\")"
   ]
  },
  {
   "cell_type": "markdown",
   "metadata": {},
   "source": [
    "**D)** Set B includes New Jersey, Kansas, and Rhode Island. Repeat the analysis from steps B and C above, but now for set B. In which of the two sets A and B (if any) would you recommend incentivizing self-employment? Explain your reasoning. Hint: It is useful to add a notion of confidence to your results and explore the data visually."
   ]
  },
  {
   "cell_type": "code",
   "execution_count": 112,
   "metadata": {},
   "outputs": [
    {
     "name": "stdout",
     "output_type": "stream",
     "text": [
      "               pearson  pearson_pval  spearman  spearman_pval\n",
      "State                                                        \n",
      "Kansas        0.258103      0.007853  0.283926   3.333283e-03\n",
      "New Jersey    0.480448      0.027489  0.404035   6.929493e-02\n",
      "Rhode Island  0.902179      0.036183  1.000000   1.404265e-24\n",
      "\n",
      "Rhode Island has the strongest effect of self-emplotement on per-capita income (since it's spearman coeff 0.902 is closest to ±1 and p_val 0.0362 <0.05)\n"
     ]
    }
   ],
   "source": [
    "### your code and or answer here ###\n",
    "df_B = df[df[\"State\"].isin([\"New Jersey\", \"Kansas\", \"Rhode Island\"])]\n",
    "df_B_grouped = df_B.groupby(\"State\").apply(lambda group: pd.Series(stats.pearsonr(group['IncomePerCap'], group['SelfEmployed']) + stats.spearmanr(group['IncomePerCap'], group['SelfEmployed']), index=[\"pearson\", \"pearson_pval\", \"spearman\", \"spearman_pval\"]))\n",
    "print(df_B_grouped.head())\n",
    "\n",
    "max_abs_pearson = df_B_grouped[\"pearson\"].abs().max() # only returns max abs value\n",
    "state = df_B_grouped[\"pearson\"].abs().idxmax()\n",
    "p_val = df_B_grouped.loc[state][\"pearson_pval\"]\n",
    "\n",
    "print(f\"\\n{state} has the strongest effect of self-emplotement on per-capita income (since it's spearman coeff {max_abs_pearson:.3f} is closest to ±1 and p_val {p_val:.4f} <0.05)\")"
   ]
  },
  {
   "cell_type": "markdown",
   "metadata": {},
   "source": [
    "# Exercise 2. Data visualization and read the stats comprehension and interpretation questions.\n",
    "\n",
    "- As part of the quizes, two homeworks and the final exam, you will be at times asked to interpret your result based on the understanding of underlying concepts. The questions below can help you practice and get a sense of how well you understand the concepts covered in the class so far. Can you answer these questions confidently?"
   ]
  },
  {
   "cell_type": "markdown",
   "metadata": {},
   "source": [
    "### Question 1. The yearly salaries (in thousands of CHF) of 7000 people are summarized in the following box plot. If the 20th percentile of the salaries is 110,000, how many people earn between 110,000 and 114,000?\n",
    "\n",
    "- a) 2100\n",
    "- b) 700\n",
    "- c) 350\n",
    "- d) 70"
   ]
  },
  {
   "cell_type": "markdown",
   "metadata": {},
   "source": [
    "<img src=\"boxplot.png\" style=\"width: 400px;\" align=\"left\"/>"
   ]
  },
  {
   "cell_type": "code",
   "execution_count": 118,
   "metadata": {},
   "outputs": [
    {
     "name": "stdout",
     "output_type": "stream",
     "text": [
      "My answer: a) 2100 (not verified)\n"
     ]
    }
   ],
   "source": [
    "### your code and or answer here ###\n",
    "'''\n",
    "<110k = 20% of 7000 people\n",
    "<114k = median = 50% of 7000 people\n",
    "So,\n",
    "110k to 114k = 30% of 7000 people = 2100 people\n",
    "'''\n",
    "print(\"My answer: a) 2100 (not verified)\")"
   ]
  },
  {
   "cell_type": "markdown",
   "metadata": {},
   "source": [
    "### Question 2. What visualizations are suitable for getting insights about the distribution of a single continuous variable?\n",
    "\n",
    "- a) Barplot and histogram\n",
    "- b) Boxplot and histogram\n",
    "- c) Scatterplot and boxplot\n",
    "- d) Barplot, boxplot, and histogram"
   ]
  },
  {
   "cell_type": "code",
   "execution_count": 117,
   "metadata": {},
   "outputs": [
    {
     "name": "stdout",
     "output_type": "stream",
     "text": [
      "My answer: b) Boxplot and histogram (not verified)\n"
     ]
    }
   ],
   "source": [
    "### your code and or answer here ###\n",
    "'''\n",
    "- Barplot: This is primarily used for categorical data. It displays the frequency of categories rather than the distribution of a continuous variable.\n",
    "- Histogram: This is suitable for continuous data and effectively shows the distribution using bins. [GOOD]\n",
    "- Boxplot: This is valuable for visualizing the distribution of a single continous variable as it provides insights into the distribution, central tendency, and spread, including outliers. [GOOD]\n",
    "- Scatterplot: This shows the relationship between two continuous variables. It does not effectively show the distribution of a single variable.\n",
    "'''\n",
    "print(\"My answer: b) Boxplot and histogram (not verified)\")"
   ]
  },
  {
   "cell_type": "markdown",
   "metadata": {},
   "source": [
    "### Question 3. In a new groundbreaking study, 28 out of 100 patients reported improvements after taking a new medicine. It is known that, when given a placebo, 20% of the patients report feeling better. What is the p-value assuming the null hypothesis that the probability of successful treatment in this groundbreaking study is the same as the probability of reporting feeling better under placebo, according to a one-sided binomial test? Hint: you may use the statsmodels.stats.proportion.binom_test function.\n",
    "\n",
    "- a) 0.00034\n",
    "- b) 0.0034\n",
    "- c) 0.034\n",
    "- d) 0.34"
   ]
  },
  {
   "cell_type": "code",
   "execution_count": 132,
   "metadata": {},
   "outputs": [
    {
     "name": "stdout",
     "output_type": "stream",
     "text": [
      "p-value is 0.034\n"
     ]
    }
   ],
   "source": [
    "### your code and or answer here ###\n",
    "'''\n",
    "Binomial Distribution:\n",
    "    - Perform a series of tests/trials for which there are only two possible outcomes (success or failure), such as getting heads or tails in coin tosses.\n",
    "    - It's the prob of obtaining k successes (dependent variable) out of n trials (constant). (x-axis = value of k i-e # of successes , y-axis = prob) \n",
    "    - As # of trial i-e n becomes large, Binomial distribution (discrete) approaches a Normal distribution (continous). \n",
    "    \n",
    "Ho: P(success | Not placebo effect) is same as P(success | placebo effect) i-e 0.2\n",
    "Ha: P(success | Not placebo effect) != P(success | placebo effect) i-e success happened NOT due to placebo effect\n",
    "Test stastic:  One-sided Binomial Test\n",
    "    - It is not explicitly calculated like in other statistical tests, so you can ignore its details below if you want:\n",
    "        - Basically, test statistic (S) here can be interpreted as the difference b/w the observed number of successes (28) under Ha & the expected number under the null hypothesis (20) i-e 8.\n",
    "        - It reflects how many more successes were observed compared to what was expected under the null hypothesis. \n",
    "        - Here, 8 more successes were observed as compared to null hypothesis (which assumes that both have same prob i-e same successes 20,20 should have happened)\n",
    "        - S has large value under Ha i-e if more success happened not due to placebo, higher the value of S. \n",
    "            - E.g, If test statistic was 18 (higher) instead of 8 --> It means either: \n",
    "                - less successes happened due to placebo i-e 28-10=18 /OR/ More successes NOT due to placebo i-e 38-20=18\n",
    "        - We use one-sided Binomial distribution for S under Ho (i-e set p=0.2, n=100 & make Binomial dist), where S = k = # of successes in n trials \n",
    "        - P(S >= 8 successes | Ho) > 0.05 --> Prob of such extreme value is high so what you observed could have happened by chance, so we can NOT reject null hypothesis\n",
    "        - P(S >= 8 successes | Ho) < 0.05 --> Prob of such extreme value is low so what you observed could NOT have happened by chance/randomly, so we can reject null hypothesis\n",
    "    - It takes input: \n",
    "        - # of trials (n) \n",
    "        - # of successes (k) \n",
    "        - prob of success under null hypothesis (p_null)\n",
    "    - In simple terms, p-value of One-sided Binomial Test = prob of additional successes (8) happening (under Binomial dist)\n",
    "        - Here, 8 more successes happened, so how how much is its probability? If it's prob is low, it means such extra successes could NOT have happened by chance & so we say it's statistically significant.\n",
    "'''\n",
    "n = 100 # total trials\n",
    "k = 28 # no. of successes\n",
    "p_null = 0.2 # prob of success under null hypothesis i-e P(success | placebo effect) = 0.2\n",
    "\n",
    "from statsmodels.stats.proportion import binom_test\n",
    "p_val = binom_test(k, n, p_null, alternative='larger')\n",
    "print(f\"p-value is {p_val:.3f}\")"
   ]
  },
  {
   "cell_type": "markdown",
   "metadata": {},
   "source": [
    "### Question 4. The 95% confidence interval of the average height of 1000 people using bootstrap resampling with 10000 bootstrap samples is calculated by:\n",
    "\n",
    "- a) Sampling 1000 height values with replacement and computing the mean. This is repeated 10000 times to create a sorted list of the 10000 means. The CI is defined by the 500th and the 9500th value in sorted order.\n",
    "- b) Sampling 10000 height values without replacement and computing the mean. This is repeated 1000 times to create a sorted list of the 1000 means. The CI is defined by the 25th and the 975th value in sorted order.\n",
    "- c) Sampling 1000 height values with replacement and computing the mean. This is repeated 10000 times to create a sorted list of the 10000 means. The CI is defined by the 250th and the 9750th value in sorted order.\n",
    "- d) Sampling 1000 height values without replacement and computing the mean. This is repeated 10000 times to create a sorted list of the 10000 means. The CI is defined by the 500th and the 9500th value in sorted order.\n",
    "\n",
    "### Implement your bootstrapping function that you will use in the rest of the course. It should take an array and the number of iterations as inputs, and output 95% confidence intervals of the mean."
   ]
  },
  {
   "cell_type": "code",
   "execution_count": 255,
   "metadata": {},
   "outputs": [
    {
     "name": "stdout",
     "output_type": "stream",
     "text": [
      "count    1000.000000\n",
      "mean      169.540323\n",
      "std        19.322025\n",
      "min       103.047901\n",
      "25%       156.245138\n",
      "50%       169.774274\n",
      "75%       181.976224\n",
      "max       240.104019\n",
      "dtype: float64\n",
      "\n",
      "95% C.I is: (168.36314453625843, 170.72910620638822)\n"
     ]
    }
   ],
   "source": [
    "### your code and or answer here ###\n",
    "'''\n",
    "My Answer: c) Sampling 1000 height values with replacement and computing the mean. This is repeated 10000 times to create a sorted list of the 10000 means. The CI is defined by the 250th and the 9750th value in sorted order.\n",
    "'''\n",
    "def ci95_with_bootstrap(data, iterations):\n",
    "    data = pd.DataFrame({\"data\": data})\n",
    "    means = []\n",
    "    sample_size = len(data) # if data has 1000 values, we will randomly sample 1000 values with replacement i-e some values will be repeated\n",
    "    for _ in range(iterations):\n",
    "        means.append(data[\"data\"].sample(sample_size, replace=True).mean())\n",
    "    means_df = pd.DataFrame({\"means\":means})\n",
    "    return (means_df[\"means\"].quantile(0.025), means_df[\"means\"].quantile(0.975))\n",
    "\n",
    "data = np.random.normal(loc=170, scale=20, size=1000) # Example dataset of 1000 heights (loc: avg of generated numbers will be around this, scale: std will be around this)\n",
    "print(pd.Series(data).describe()) # just for info\n",
    "ci95 = ci95_with_bootstrap(data, iterations=10000)\n",
    "print(f\"\\n95% C.I is: {ci95}\")"
   ]
  },
  {
   "cell_type": "markdown",
   "metadata": {},
   "source": [
    "### Question 5. A study conducted at EPFL revealed a negative Spearman’s correlation between GPA and entry-level job salary. Which of the following statements is true?\n",
    "\n",
    "- a) There could be a positive Spearman’s correlation between GPA and entry-level job salary in every single department of EPFL.\n",
    "- b) Spearman correlation between GPA and entry-level job salary in every single department has to be positive.\n",
    "- c) Across all levels, as opposed to entry-level only, higher GPA scores are associated with higher job salaries.\n",
    "- d) We can infer that finishing EPFL with a higher GPA causes you to have a lower entry-level job salary."
   ]
  },
  {
   "cell_type": "code",
   "execution_count": 168,
   "metadata": {},
   "outputs": [],
   "source": [
    "### your code and or answer here ###\n",
    "'''\n",
    "My Answer: (d)\n",
    "'''"
   ]
  },
  {
   "cell_type": "markdown",
   "metadata": {},
   "source": [
    "### Question 6. The average number of requests per page during a day on a large website is 200, while the median is 15. \n",
    "\n",
    "- a) You can assume that the distribution is heavy-tailed.\n",
    "- b) You are dealing with a left-skewed distribution.\n",
    "- c) Half of the pages get more than 200 requests.\n",
    "- d) None of the above."
   ]
  },
  {
   "cell_type": "code",
   "execution_count": 339,
   "metadata": {},
   "outputs": [
    {
     "name": "stdout",
     "output_type": "stream",
     "text": [
      "Values: [  1   2   3   4   5   6   7   8   9  10  11  12  13  14  15  30  60  90\n",
      " 100 110 115 120 125 130 235 225 320 520 600]\n",
      "Current Mean: 100.00, Current Median: 15.00\n"
     ]
    },
    {
     "data": {
      "image/png": "[encoded data removed]",
      "text/plain": [
       "<Figure size 432x288 with 1 Axes>"
      ]
     },
     "metadata": {
      "needs_background": "light"
     },
     "output_type": "display_data"
    }
   ],
   "source": [
    "### your code and or answer here ###\n",
    "'''\n",
    "My Answer: (a)\n",
    "    - There are a few extremely large values that significantly pull the average (mean) away from the median. \n",
    "'''\n",
    "# Example distribution of 30 values\n",
    "low_values = np.arange(1, 16)  # First 15 values from 1 to 15 to make median 15\n",
    "high_values = [30, 60, 90, 100, 110, 115, 120, 125, 130, 235, 225, 320, 520, 600] # Other 15 value large to make mean 100\n",
    "\n",
    "# Calculate the mean and median\n",
    "data = np.concatenate([low_values, high_values])\n",
    "mean = np.mean(data)\n",
    "median = np.median(data)\n",
    "print(f'Values: {data}\\nCurrent Mean: {np.mean(data):.2f}, Current Median: {np.median(data):.2f}')\n",
    "\n",
    "# Plotting\n",
    "sns.histplot(data, kde=True)\n",
    "plt.axvline(np.mean(data), color='r', linestyle='--', label='Mean: {:.2f}'.format(mean))\n",
    "plt.axvline(np.median(data), color='g', linestyle='--', label='Median: {:.2f}'.format(median))\n",
    "plt.title('Example Distribution with Heavy Tail')\n",
    "plt.xlabel('Value')\n",
    "plt.ylabel('Frequency')\n",
    "plt.legend()\n",
    "plt.show()\n"
   ]
  },
  {
   "cell_type": "code",
   "execution_count": null,
   "metadata": {},
   "outputs": [],
   "source": []
  }
 ],
 "metadata": {
  "kernelspec": {
   "display_name": "base",
   "language": "python",
   "name": "python3"
  },
  "language_info": {
   "codemirror_mode": {
    "name": "ipython",
    "version": 3
   },
   "file_extension": ".py",
   "mimetype": "text/x-python",
   "name": "python",
   "nbconvert_exporter": "python",
   "pygments_lexer": "ipython3",
   "version": "3.8.8"
  },
  "varInspector": {
   "cols": {
    "lenName": 16,
    "lenType": 16,
    "lenVar": 40
   },
   "kernels_config": {
    "python": {
     "delete_cmd_postfix": "",
     "delete_cmd_prefix": "del ",
     "library": "var_list.py",
     "varRefreshCmd": "print(var_dic_list())"
    },
    "r": {
     "delete_cmd_postfix": ") ",
     "delete_cmd_prefix": "rm(",
     "library": "var_list.r",
     "varRefreshCmd": "cat(var_dic_list()) "
    }
   },
   "types_to_exclude": [
    "module",
    "function",
    "builtin_function_or_method",
    "instance",
    "_Feature"
   ],
   "window_display": false
  }
 },
 "nbformat": 4,
 "nbformat_minor": 4
}
