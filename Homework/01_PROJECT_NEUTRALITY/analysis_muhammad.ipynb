{
 "cells": [
  {
   "cell_type": "markdown",
   "id": "579b567a-2b80-4bf1-8cc1-c514da76ca50",
   "metadata": {},
   "source": [
    "# (ADA) Homework 1: Scoring the Language Model Olympics\n",
    "\n",
    "---\n",
    "\n",
    "By the end of this homework, we expect you to be able to:\n",
    "\n",
    "- Load data and handle data using pandas;\n",
    "- Navigate the documentation of Python packages by yourself;\n",
    "- Filter and tidy up noisy real-world datasets;\n",
    "- Aggregate your data in different (and hopefully helpful) ways;\n",
    "- Create meaningful visualizations to analyze the data;\n",
    "- Communicate your findings in a clear and concise manner\n",
    "\n",
    "---\n",
    "\n",
    "**Important Dates.**\n",
    "\n",
    "- Homework release: Fri 04 Oct 2024\n",
    "- Homework due: Sat 18 Oct 2024, 23:59\n",
    "- Grade release: Mon 04 Nov 2024\n",
    "\n",
    "**Some rules**\n",
    "\n",
    "- You are allowed to use any built-in Python library that comes with Anaconda. If you want to use an external library, you may do so, but must justify your choice.\n",
    "- Make sure you use the data folder provided in the repository in read-only mode. (Or alternatively, be sure you don’t change any of the files.)\n",
    "- Be sure to provide a concise textual description of your thought process, the assumptions you made, the solution you implemented, and explanations for your answers. A notebook that only has code cells will not suffice. To avoid confusion: use short comments for longer code answers.\n",
    "- For questions containing the /Discuss:/ prefix, answer not with code, but with a textual explanation (in markdown).\n",
    "- Back up any hypotheses and claims with data, since this is an important aspect of the course.\n",
    "- Please write all your comments in English, and use meaningful variable names in your code. Your repo should have a single notebook (plus the required data files) in the master/main branch. If there are multiple notebooks present, we will not grade anything.\n",
    "- We will not run your notebook for you! Rather, we will grade it as is, which means that only the results contained in your evaluated code cells will be considered, and we will not see the results in unevaluated code cells. Thus, be sure to hand in a fully-run and evaluated notebook. In order to check whether everything looks as intended, you can check the rendered notebook on the GitHub website once you have pushed your solution there.\n",
    "- In continuation to the previous point, interactive plots, such as those generated using the ‘plotly’ package, should be strictly avoided! Make sure to print results and/or dataframes that confirm you have properly addressed the task.\n",
    "\n",
    "**A Note on using Language Models (LMs)**\n",
    "\n",
    "If you try hard enough, you will likely get away with cheating. Fortunately, our job is not to police, but rather to educate! So, please consider the following:\n",
    "- Presumably, you are taking this course to learn something! LMs are not always right ([they often fail in silly ways](https://community.openai.com/t/why-9-11-is-larger-than-9-9-incredible/869824/4)). This course should prepare you to detect when they are wrong!\n",
    "- Some of the TAs on this course literally published many works on detecting machine-generated text.\n",
    "---"
   ]
  },
  {
   "cell_type": "markdown",
   "id": "4f85896e-c0ae-4ae3-af41-46149faa2278",
   "metadata": {},
   "source": [
    "## Context\n",
    "\n",
    "Context\n",
    "AI is booming! Newspapers, influencers, and your relatives all agree that AI is important. But while almost everyone agrees that AI is the future, much is unclear about what that future looks like…\n",
    "\n",
    "Freshly graduated from the EPFL, you are hired by the Swiss government to advise on a large-scale “AI integration” initiative code-named **\"NEUTRALITY\"** (Navigating Efficient Upgrades Through Robust Artificial Learning Integration Techniques Yearly). Convinced by the stunning progress in language modeling, the government would like to battle the growing shortages in the education sector by using LMs. Your job description: investigate which LMs might be best suited!\n",
    "\n",
    "You are given the results of three LMs on the [“Massive Multitask Language Understanding (MMLU)”](https://arxiv.org/abs/2009.03300) dataset to compare. This famous dataset consists of 57 subjects with multiple-choice questions, covering diverse subjects like mathematics, computer science, history, and law. Most providers of state-of-the-art LMs use this dataset to showcase the versatility of their latest models. Unfortunately, Horta-Ribeiro, the intern responsible for collecting the results, didn’t take EPFL’s famous ADA course. As a result, the collected datasets are slightly corrupted.\n",
    "\n",
    "### A very brief primer on Language Models\n",
    "Language models (LMs) are sophisticated statistical models designed to understand and generate human-like text. At their core, LMs are trained to predict the most likely continuation of a given input text. For example, given the input \"The cat sat on the,\" an LM might predict \"mat\" as a likely continuation.\n",
    "LMs are trained on vast text samples from various sources, including books, websites, and social media. This extensive training allows them to capture patterns and relationships in language, enabling them to generate coherent and contextually appropriate text across a wide range of topics and styles.\n",
    "\n",
    "While LMs can produce text that appears to be written by intelligent humans, it's important to note that their capabilities can diverge from human intelligence in unexpected ways. They may sometimes generate factually incorrect information or struggle with complex reasoning tasks.\n",
    "\n",
    "Two key concepts in understanding LMs are:\n",
    "1. **Tokens**: LMs process text using \"tokens\" rather than individual characters. Tokens can be words, parts of words, or punctuation marks. For example, the sentence \"I love AI!\" might be tokenized as [\"I\", \"love\", \"AI\", \"!\"]. Tokenization is the first step in both training and using an LM.\n",
    "2. **Context**: The input text provided to an LM is called the \"context.\" This context informs the model's predictions or generations. A longer or more specific context often leads to more accurate and relevant outputs.\n",
    "\n",
    "[See: Wikipedia entry on language models](https://en.wikipedia.org/wiki/Large_language_model)\n",
    "\n",
    "###  Files for this assignment\n",
    "This assignment is divided into three tasks, each of which should bring you a step closer to providing a recommendation toward project NEUTRALITY’s objectives:\n",
    "\n",
    "- **Task 1**: Inspecting the results and getting your first model ranking\n",
    "- **Task 2**: Inspecting the underlying data used to generate the results for possible biases\n",
    "- **Task 3**: Learning about tokens and providing a final recommendation\n",
    "\n",
    "\n",
    "```\n",
    "📁 PROJECT_NEUTRALITY\n",
    "│\n",
    "├── 📄 analysis.ipynb (the file you're currently reading!)\n",
    "├── 📄 requirements.txt (install into your environment)\n",
    "│\n",
    "├── 📁 task_1\n",
    "├── 📁 task_2\n",
    "└── 📁 task_2.5\n",
    "```   \n",
    " "
   ]
  },
  {
   "cell_type": "code",
   "execution_count": 1,
   "id": "95ce4c12-9681-401e-9489-aa0765b19d5d",
   "metadata": {},
   "outputs": [],
   "source": [
    "# please make sure you install the packages listed in the requirements.txt file in your environment!\n",
    "# using pip\n",
    "# pip install -r requirements.txt\n",
    "#\n",
    "# using Conda:\n",
    "# conda create --name <env_name> --file requirements.txt\n",
    "#\n",
    "# some basic imports\n",
    "import os\n",
    "import pandas as pd\n",
    "import numpy as np\n",
    "import matplotlib.pyplot as plt\n",
    "import warnings\n",
    "from scipy.stats import ttest_ind"
   ]
  },
  {
   "cell_type": "markdown",
   "id": "e62594ad-4f5f-4a46-80bc-deacf66b62e9",
   "metadata": {},
   "source": [
    "## Task 1 (18 points): What's in an average anyway?\n",
    "\n",
    "The files needed to complete task 1 can be found in the folder \"`data/task_1/`:\n",
    "```\n",
    "task_1/\n",
    "│\n",
    "├── mmlu_data/\n",
    "│   └── test.csv\n",
    "│\n",
    "└── lm_scores/\n",
    "    ├── lm_X.csv\n",
    "    ├── lm_Y.csv\n",
    "    └── lm_Z.csv\n",
    "```\n",
    "\n",
    "We will start by loading, (manually) inspecting, and cleaning the data. Although it doesn't seem \"glamorous\" (nor is it particularly fun...) - manually inspecting data is extremely important! In fact, it's one of the few things most AI and Data Science researchers agree on :). Next, we will take a first pass on ordering our Olympic podium between three LMs."
   ]
  },
  {
   "cell_type": "markdown",
   "id": "f8605646-79fa-4cb3-8137-b6951bd1e064",
   "metadata": {},
   "source": [
    "### 1.1 (1 pt)\n",
    " \n",
    "Load the subfiles contained in the `mmlu_data` and `lm_scores` folders into separate dataframes:\n",
    "- `df_test`\n",
    "- `df_x`\n",
    "- `df_y`\n",
    "- `df_z`\n",
    "\n",
    "for each, print their sizes."
   ]
  },
  {
   "cell_type": "code",
   "execution_count": 2,
   "id": "e6ce5e96-7de6-463d-a00b-6a4b2cfc8cb3",
   "metadata": {},
   "outputs": [
    {
     "name": "stdout",
     "output_type": "stream",
     "text": [
      "df_test size: (14042, 8)\n",
      "df_x size: (13882, 2)\n",
      "df_y size: (13978, 2)\n",
      "df_z size: (13923, 2)\n"
     ]
    }
   ],
   "source": [
    "df_test = pd.read_csv('task_1/mmlu_data/test.csv')\n",
    "\n",
    "df_x = pd.read_csv('task_1/lm_scores/lm_X.csv')\n",
    "df_y = pd.read_csv('task_1/lm_scores/lm_Y.csv')\n",
    "df_z = pd.read_csv('task_1/lm_scores/lm_Z.csv')\n",
    "\n",
    "print('df_test size:', df_test.shape)\n",
    "print('df_x size:', df_x.shape)\n",
    "print('df_y size:', df_y.shape)\n",
    "print('df_z size:', df_z.shape)"
   ]
  },
  {
   "cell_type": "markdown",
   "id": "acbda57d-7df2-4e33-b31c-52bc0af6753e",
   "metadata": {},
   "source": [
    "### 1.2 (4 pt)\n",
    "Unfortunately, LMs don't always output the format we want. In the column `result`, the value should be one of A, B, C, or D. \n",
    "\n",
    "A. For each of the LM score dataframes, use a `value_counts()` operation and print the results. \n",
    "\n",
    "B. /Discuss:/ Inspect the results and describe the types of answer formats you see. Besides the \"expected\" case, you should be able to find at least four unexpected formats."
   ]
  },
  {
   "cell_type": "code",
   "execution_count": 3,
   "id": "79936f23",
   "metadata": {},
   "outputs": [
    {
     "name": "stdout",
     "output_type": "stream",
     "text": [
      "df_x values: result\n",
      "A                                                                                                                 2733\n",
      "A                                                                                                                 1657\n",
      "B                                                                                                                 1412\n",
      "Answer: A                                                                                                         1398\n",
      "C                                                                                                                 1134\n",
      "                                                                                                                  ... \n",
      "judicial activism, so the answer is A                                                                                1\n",
      "creating insurmountable obstacles to the founding of factions, so the answer is A                                    1\n",
      "A congressperson who retires to take a position teaching political science at a university, so the answer is A       1\n",
      "David Hume, so the answer is D                                                                                       1\n",
      "Brahminic orthodoxy, so the answer is A                                                                              1\n",
      "Name: count, Length: 145, dtype: int64\n",
      "df_y values: result\n",
      "D                                                                                                2894\n",
      "Answer: D                                                                                        1718\n",
      "C                                                                                                1701\n",
      "B                                                                                                1240\n",
      "D                                                                                                1145\n",
      "                                                                                                 ... \n",
      "Where the energy of interaction between the atoms is at its minimum value, so the answer is A       1\n",
      "leaves more viable offspring than others of its species., so the answer is D                        1\n",
      "A and C only, so the answer is D                                                                    1\n",
      "ADP + P → ATP, so the answer is D                                                                   1\n",
      "Monoclonal antibodies, so the answer is C                                                           1\n",
      "Name: count, Length: 141, dtype: int64\n",
      "df_z values: result\n",
      "D                                                                                   2257\n",
      "C                                                                                   2191\n",
      "B                                                                                   2127\n",
      "A                                                                                   2060\n",
      "Answer: D                                                                            777\n",
      "                                                                                    ... \n",
      "omission of a universal suffrage clause, so the answer is D                            1\n",
      "declare war, so the answer is D                                                        1\n",
      "state and local governments, by means of federal funding, so the answer is B           1\n",
      "less clearly identified with consistent political ideologies, so the answer is B       1\n",
      "Rahit, so the answer is B                                                              1\n",
      "Name: count, Length: 560, dtype: int64\n"
     ]
    }
   ],
   "source": [
    "# A\n",
    "print('df_x values:', df_x['result'].value_counts())\n",
    "print('df_y values:', df_y['result'].value_counts())\n",
    "print('df_z values:', df_z['result'].value_counts())"
   ]
  },
  {
   "cell_type": "code",
   "execution_count": 4,
   "id": "620f46cc",
   "metadata": {},
   "outputs": [],
   "source": [
    "# B - Answer:\n",
    "\n",
    "# We see that for df_x, df_y and df_z, the value_counts() operation returns a list of 145, 141 and 560 respectively. \n",
    "# The expected formats \"A,B,C,D\" are the most common, but we also see that there are some other formats such as \n",
    "# \"Answer: A\" or \"\\<An Explanation\\>, thus the answer is A\". \n",
    "# It is also worth noting that there are multiple distinct values for the answer \"A\" (or \"B,C,D\") in the dataframes.\n",
    "# This probably due to the fact that the answers outputted by the model are formatted differently, and the model is not\n",
    "# able to output a consistent format for the answers."
   ]
  },
  {
   "cell_type": "markdown",
   "id": "88c5551d-1968-427b-bdd6-51d996898e7c",
   "metadata": {},
   "source": [
    "### 1.3 (5 pt)\n",
    "Oh oh... That doesn't look great. Simply dropping all invalid answers seems overly wasteful, yet fixing all of these looks like a mess! Instead, let's focus for now on fixing just those answers of length < 10 characters that require only a single `str.replace()` operation. \n",
    "\n",
    "For example, if the answer looks like `--A--`, we could fix this by using the following simple function:\n",
    "\n",
    "```\n",
    "def clean_answer(s, pattern='-'):\n",
    "    return str(s).replace(pattern, '')\n",
    "\n",
    "dirty_answer = '--A--'\n",
    "clean_answer = clean_answer(dirty_answer)\n",
    "```\n",
    "\n",
    "A. Filter the three score dataframes to include only answers with less than 10 characters. Make a deep copy of the dataframes as you filter them.\n",
    "\n",
    "B. Modify the `clean_answer()` example function to clean the answers in the filtered data frames using the `apply()` functionality. Finally, make sure **all remaining answers are one of `A, B, C, or D`.**\n",
    "\n",
    "C. /Discuss:/ Compare the sizes of the original and filtered data frames. What do you see? Why might this be a problem?"
   ]
  },
  {
   "cell_type": "code",
   "execution_count": 5,
   "id": "aef1f933-20bf-426a-ac9d-a35e273b9bd2",
   "metadata": {},
   "outputs": [
    {
     "data": {
      "text/plain": [
       "result\n",
       "A            2733\n",
       "A            1657\n",
       "B            1412\n",
       "Answer: A    1398\n",
       "C            1134\n",
       "D            1124\n",
       "B             793\n",
       "Answer: B     760\n",
       "C             622\n",
       "Answer: D     613\n",
       "D             596\n",
       "Answer: C     594\n",
       "Not Sure       73\n",
       "Name: count, dtype: int64"
      ]
     },
     "execution_count": 5,
     "metadata": {},
     "output_type": "execute_result"
    }
   ],
   "source": [
    "# A\n",
    "\n",
    "df_x_filtered = df_x[df_x['result'].str.len() < 10].copy(deep=True)\n",
    "df_y_filtered = df_y[df_y['result'].str.len() < 10].copy(deep=True)\n",
    "df_z_filtered = df_z[df_z['result'].str.len() < 10].copy(deep=True)\n",
    "\n",
    "df_x_filtered['result'].value_counts()"
   ]
  },
  {
   "cell_type": "code",
   "execution_count": 6,
   "id": "fd54f296",
   "metadata": {},
   "outputs": [
    {
     "name": "stdout",
     "output_type": "stream",
     "text": [
      "\n",
      "\n",
      "\n",
      "df_x:\n",
      "(13882, 2)\n",
      "\n",
      "df_y:\n",
      "(13978, 2)\n",
      "\n",
      "df_z:\n",
      "(13923, 2)\n",
      "\n",
      "\n",
      "\n",
      "After cleaning......\n",
      "\n",
      "\n",
      "\n",
      "result\n",
      "A          5788\n",
      "B          2965\n",
      "C          2350\n",
      "D          2333\n",
      "NotSure      73\n",
      "Name: count, dtype: int64\n",
      "\n",
      "\n",
      "\n",
      "df_x_filtered:\n",
      "(13436, 2)\n",
      "\n",
      "df_y_filtered:\n",
      "(13637, 2)\n",
      "\n",
      "df_z_filtered:\n",
      "(12878, 2)\n",
      "13785.2127935456\n",
      "13881.2127935456\n",
      "13785.2127935456\n"
     ]
    }
   ],
   "source": [
    "# B\n",
    "def clean_answer(s, pattern='Answer: '):\n",
    "    return s.replace(pattern, '').replace(' ', '')\n",
    "\n",
    "print(\"\\n\\n\\ndf_x:\")\n",
    "#print(df_x['result'].value_counts()) # There is only A,B,C and D in the result column of df_x_filtered\n",
    "print(df_x.shape)\n",
    "\n",
    "print(\"\\ndf_y:\")\n",
    "#print(df_y['result'].value_counts()) # There is only A,B,C and D in the result column of df_x_filtered\n",
    "print(df_y.shape)\n",
    "\n",
    "print(\"\\ndf_z:\")\n",
    "#print(df_z['result'].value_counts()) # There is only A,B,C and D in the result column of df_x_filtered\n",
    "print(df_z.shape)\n",
    "\n",
    "print(\"\\n\\n\\nAfter cleaning......\\n\\n\\n\")\n",
    "\n",
    "df_x_filtered['result'] = df_x_filtered['result'].apply(clean_answer)\n",
    "df_y_filtered['result'] = df_y_filtered['result'].apply(clean_answer)\n",
    "df_z_filtered['result'] = df_z_filtered['result'].apply(clean_answer)\n",
    "\n",
    "print(df_x_filtered['result'].value_counts()) # There are still 73 'NotSure' values in df_x_filtered. We can remove them.\n",
    "\n",
    "df_x_filtered = df_x_filtered[df_x_filtered['result'] != 'NotSure']\n",
    "\n",
    "print(\"\\n\\n\\ndf_x_filtered:\")\n",
    "#print(df_x_filtered['result'].value_counts()) # There is only A,B,C and D in the result column of df_x_filtered\n",
    "print(df_x_filtered.shape)\n",
    "\n",
    "print(\"\\ndf_y_filtered:\")\n",
    "#print(df_y_filtered['result'].value_counts()) # There is only A,B,C and D in the result column of df_x_filtered\n",
    "print(df_y_filtered.shape)\n",
    "\n",
    "print(\"\\ndf_z_filtered:\")\n",
    "#print(df_z_filtered['result'].value_counts()) # There is only A,B,C and D in the result column of df_x_filtered\n",
    "print(df_z_filtered.shape)\n",
    "\n",
    "print(len(df_x)-len(df_x_filtered)/len(df_x) * 100)\n",
    "print(len(df_y)-len(df_x_filtered)/len(df_x) * 100)\n",
    "print(len(df_x)-len(df_x_filtered)/len(df_x) * 100)"
   ]
  },
  {
   "cell_type": "markdown",
   "id": "2415cd9b",
   "metadata": {},
   "source": [
    "C. /Discuss:/\n",
    "\n",
    "We removed approximately 400 samples but over almost 14k, I don't see why this would be a problem. "
   ]
  },
  {
   "cell_type": "markdown",
   "id": "da1cf129-09dd-47b1-9737-2c4d57eb8853",
   "metadata": {},
   "source": [
    "### 1.4 (3 pt)\n",
    "\n",
    "Now that our answer columns are nicely formatted, let's take a look at model performance:\n",
    "\n",
    "A. Both the `MMLU` dataframes and the language model score data frames have the columns `question_id`. For each of the language model score data frames, use an inner join operation with the `df_test` dataframe on the `question_id` column.\n",
    "\n",
    "B. Add a new column to each of the resulting dataframes called `correct`, that checks if the model's answer in `result` is the same as the expected answer in the column `answer`. Then, print the average score of each model."
   ]
  },
  {
   "cell_type": "code",
   "execution_count": 7,
   "id": "e66b36f3-f5a4-4237-9b48-39b21716d7aa",
   "metadata": {},
   "outputs": [
    {
     "data": {
      "text/html": [
       "<div>\n",
       "<style scoped>\n",
       "    .dataframe tbody tr th:only-of-type {\n",
       "        vertical-align: middle;\n",
       "    }\n",
       "\n",
       "    .dataframe tbody tr th {\n",
       "        vertical-align: top;\n",
       "    }\n",
       "\n",
       "    .dataframe thead th {\n",
       "        text-align: right;\n",
       "    }\n",
       "</style>\n",
       "<table border=\"1\" class=\"dataframe\">\n",
       "  <thead>\n",
       "    <tr style=\"text-align: right;\">\n",
       "      <th></th>\n",
       "      <th>question</th>\n",
       "      <th>A</th>\n",
       "      <th>B</th>\n",
       "      <th>C</th>\n",
       "      <th>D</th>\n",
       "      <th>answer</th>\n",
       "      <th>subject</th>\n",
       "      <th>question_id</th>\n",
       "      <th>question_id_x</th>\n",
       "      <th>result</th>\n",
       "    </tr>\n",
       "  </thead>\n",
       "  <tbody>\n",
       "    <tr>\n",
       "      <th>0</th>\n",
       "      <td>Find the degree for the given field extension ...</td>\n",
       "      <td>0</td>\n",
       "      <td>4</td>\n",
       "      <td>2</td>\n",
       "      <td>6</td>\n",
       "      <td>B</td>\n",
       "      <td>abstract algebra</td>\n",
       "      <td>0</td>\n",
       "      <td>0</td>\n",
       "      <td>B</td>\n",
       "    </tr>\n",
       "    <tr>\n",
       "      <th>1</th>\n",
       "      <td>Let p = (1, 2, 5, 4)(2, 3) in S_5 . Find the i...</td>\n",
       "      <td>8</td>\n",
       "      <td>2</td>\n",
       "      <td>24</td>\n",
       "      <td>120</td>\n",
       "      <td>C</td>\n",
       "      <td>abstract algebra</td>\n",
       "      <td>1</td>\n",
       "      <td>1</td>\n",
       "      <td>C</td>\n",
       "    </tr>\n",
       "    <tr>\n",
       "      <th>2</th>\n",
       "      <td>Find all zeros in the indicated finite field o...</td>\n",
       "      <td>0</td>\n",
       "      <td>1</td>\n",
       "      <td>0,1</td>\n",
       "      <td>0,4</td>\n",
       "      <td>D</td>\n",
       "      <td>abstract algebra</td>\n",
       "      <td>2</td>\n",
       "      <td>2</td>\n",
       "      <td>D</td>\n",
       "    </tr>\n",
       "    <tr>\n",
       "      <th>3</th>\n",
       "      <td>Statement 1 | A factor group of a non-Abelian ...</td>\n",
       "      <td>True, True</td>\n",
       "      <td>False, False</td>\n",
       "      <td>True, False</td>\n",
       "      <td>False, True</td>\n",
       "      <td>B</td>\n",
       "      <td>abstract algebra</td>\n",
       "      <td>3</td>\n",
       "      <td>3</td>\n",
       "      <td>B</td>\n",
       "    </tr>\n",
       "    <tr>\n",
       "      <th>4</th>\n",
       "      <td>Find the product of the given polynomials in t...</td>\n",
       "      <td>2x^2 + 5</td>\n",
       "      <td>6x^2 + 4x + 6</td>\n",
       "      <td>0</td>\n",
       "      <td>x^2 + 1</td>\n",
       "      <td>B</td>\n",
       "      <td>abstract algebra</td>\n",
       "      <td>4</td>\n",
       "      <td>4</td>\n",
       "      <td>B</td>\n",
       "    </tr>\n",
       "    <tr>\n",
       "      <th>...</th>\n",
       "      <td>...</td>\n",
       "      <td>...</td>\n",
       "      <td>...</td>\n",
       "      <td>...</td>\n",
       "      <td>...</td>\n",
       "      <td>...</td>\n",
       "      <td>...</td>\n",
       "      <td>...</td>\n",
       "      <td>...</td>\n",
       "      <td>...</td>\n",
       "    </tr>\n",
       "    <tr>\n",
       "      <th>13877</th>\n",
       "      <td>Guru Nanak used what term to denote the \"divi...</td>\n",
       "      <td>Shabad</td>\n",
       "      <td>Khalse</td>\n",
       "      <td>Nam</td>\n",
       "      <td>Guru</td>\n",
       "      <td>A</td>\n",
       "      <td>world religions</td>\n",
       "      <td>13877</td>\n",
       "      <td>14037</td>\n",
       "      <td>A</td>\n",
       "    </tr>\n",
       "    <tr>\n",
       "      <th>13878</th>\n",
       "      <td>What is the mi'raj?</td>\n",
       "      <td>Muhammad's miraculous ascent to heaven</td>\n",
       "      <td>Muhammad's migration to Mecca</td>\n",
       "      <td>Muhammad's first community in Mecca</td>\n",
       "      <td>Muhammad's revelations of the Qur'an</td>\n",
       "      <td>A</td>\n",
       "      <td>world religions</td>\n",
       "      <td>13878</td>\n",
       "      <td>14038</td>\n",
       "      <td>A</td>\n",
       "    </tr>\n",
       "    <tr>\n",
       "      <th>13879</th>\n",
       "      <td>What is the name of the most famous dharmashas...</td>\n",
       "      <td>Laws of Dharma</td>\n",
       "      <td>Laws of Karma</td>\n",
       "      <td>Laws of Vishnu</td>\n",
       "      <td>Laws of Manu</td>\n",
       "      <td>D</td>\n",
       "      <td>world religions</td>\n",
       "      <td>13879</td>\n",
       "      <td>14039</td>\n",
       "      <td>B</td>\n",
       "    </tr>\n",
       "    <tr>\n",
       "      <th>13880</th>\n",
       "      <td>What does the term \"Qur'an\" literally mean?</td>\n",
       "      <td>The Holy Book</td>\n",
       "      <td>The Narrative</td>\n",
       "      <td>The Recitation</td>\n",
       "      <td>The Pillars</td>\n",
       "      <td>C</td>\n",
       "      <td>world religions</td>\n",
       "      <td>13880</td>\n",
       "      <td>14040</td>\n",
       "      <td>B</td>\n",
       "    </tr>\n",
       "    <tr>\n",
       "      <th>13881</th>\n",
       "      <td>Mani referred to God by which of the followin...</td>\n",
       "      <td>Mother of Light</td>\n",
       "      <td>Father of Goodness</td>\n",
       "      <td>Ineffable Lover</td>\n",
       "      <td>Eternal Spirit</td>\n",
       "      <td>B</td>\n",
       "      <td>world religions</td>\n",
       "      <td>13881</td>\n",
       "      <td>14041</td>\n",
       "      <td>A</td>\n",
       "    </tr>\n",
       "  </tbody>\n",
       "</table>\n",
       "<p>13436 rows × 10 columns</p>\n",
       "</div>"
      ],
      "text/plain": [
       "                                                question  \\\n",
       "0      Find the degree for the given field extension ...   \n",
       "1      Let p = (1, 2, 5, 4)(2, 3) in S_5 . Find the i...   \n",
       "2      Find all zeros in the indicated finite field o...   \n",
       "3      Statement 1 | A factor group of a non-Abelian ...   \n",
       "4      Find the product of the given polynomials in t...   \n",
       "...                                                  ...   \n",
       "13877   Guru Nanak used what term to denote the \"divi...   \n",
       "13878                                What is the mi'raj?   \n",
       "13879  What is the name of the most famous dharmashas...   \n",
       "13880        What does the term \"Qur'an\" literally mean?   \n",
       "13881   Mani referred to God by which of the followin...   \n",
       "\n",
       "                                            A                              B  \\\n",
       "0                                           0                              4   \n",
       "1                                           8                              2   \n",
       "2                                           0                              1   \n",
       "3                                  True, True                   False, False   \n",
       "4                                    2x^2 + 5                  6x^2 + 4x + 6   \n",
       "...                                       ...                            ...   \n",
       "13877                                  Shabad                         Khalse   \n",
       "13878  Muhammad's miraculous ascent to heaven  Muhammad's migration to Mecca   \n",
       "13879                          Laws of Dharma                  Laws of Karma   \n",
       "13880                           The Holy Book                  The Narrative   \n",
       "13881                         Mother of Light             Father of Goodness   \n",
       "\n",
       "                                         C  \\\n",
       "0                                        2   \n",
       "1                                       24   \n",
       "2                                      0,1   \n",
       "3                              True, False   \n",
       "4                                        0   \n",
       "...                                    ...   \n",
       "13877                                  Nam   \n",
       "13878  Muhammad's first community in Mecca   \n",
       "13879                       Laws of Vishnu   \n",
       "13880                       The Recitation   \n",
       "13881                      Ineffable Lover   \n",
       "\n",
       "                                          D answer           subject  \\\n",
       "0                                         6      B  abstract algebra   \n",
       "1                                       120      C  abstract algebra   \n",
       "2                                       0,4      D  abstract algebra   \n",
       "3                               False, True      B  abstract algebra   \n",
       "4                                   x^2 + 1      B  abstract algebra   \n",
       "...                                     ...    ...               ...   \n",
       "13877                                  Guru      A   world religions   \n",
       "13878  Muhammad's revelations of the Qur'an      A   world religions   \n",
       "13879                          Laws of Manu      D   world religions   \n",
       "13880                           The Pillars      C   world religions   \n",
       "13881                        Eternal Spirit      B   world religions   \n",
       "\n",
       "       question_id  question_id_x result  \n",
       "0                0              0      B  \n",
       "1                1              1      C  \n",
       "2                2              2      D  \n",
       "3                3              3      B  \n",
       "4                4              4      B  \n",
       "...            ...            ...    ...  \n",
       "13877        13877          14037      A  \n",
       "13878        13878          14038      A  \n",
       "13879        13879          14039      B  \n",
       "13880        13880          14040      B  \n",
       "13881        13881          14041      A  \n",
       "\n",
       "[13436 rows x 10 columns]"
      ]
     },
     "execution_count": 7,
     "metadata": {},
     "output_type": "execute_result"
    }
   ],
   "source": [
    "# A\n",
    "\n",
    "df_x_joined = df_test.join(df_x_filtered, on='question_id', how='inner', rsuffix='_x')\n",
    "df_y_joined = df_test.join(df_y_filtered, on='question_id', how='inner', rsuffix='_y')\n",
    "df_z_joined = df_test.join(df_z_filtered, on='question_id', how='inner', rsuffix='_z')\n",
    "\n",
    "df_x_joined\n"
   ]
  },
  {
   "cell_type": "code",
   "execution_count": 8,
   "id": "50b024d2",
   "metadata": {},
   "outputs": [
    {
     "name": "stdout",
     "output_type": "stream",
     "text": [
      "df_x_joined score: 0.3397588568026198\n",
      "df_y_joined score: 0.3415707266994207\n",
      "df_z_joined score: 0.3150333902779935\n"
     ]
    }
   ],
   "source": [
    "# B\n",
    "\n",
    "df_x_joined['correct'] = df_x_joined['result'] == df_x_joined['answer']\n",
    "df_y_joined['correct'] = df_y_joined['result'] == df_y_joined['answer']\n",
    "df_z_joined['correct'] = df_z_joined['result'] == df_z_joined['answer']\n",
    "\n",
    "print('df_x_joined score:', df_x_joined['correct'].mean())\n",
    "print('df_y_joined score:', df_y_joined['correct'].mean())\n",
    "print('df_z_joined score:', df_z_joined['correct'].mean())"
   ]
  },
  {
   "cell_type": "markdown",
   "id": "69decfd8-8083-4c2f-8263-a153d55efede",
   "metadata": {},
   "source": [
    "### 1.5 (5 pt)\n",
    "\n",
    "Hmmm, something doesn't seem quite right. Let's investigate how \"balanced\" this dataset is:\n",
    "\n",
    "A. For each of the 57 subjects in the MMLU, compare the number of questions answered by each model. Print the subjects for which there is a more than 10% difference.\n",
    "\n",
    "B. Propose and implement a reasonable way to rebalance the results. (e.g., while throwing away 100% of the results perfectly rebalances the results, it is not reasonable).\n",
    "\n",
    "C. Finally, print the updated accuracy on the rebalanced data.\n",
    "\n",
    "**hint:**:\n",
    "- (A) For a given subject, let model X and model Y have answered 181 and 200 questions respectively. You can consider this a 10% difference from the perspective of X since: (200 - 181) / 181 > 0.10"
   ]
  },
  {
   "cell_type": "code",
   "execution_count": 9,
   "id": "19463002-732b-405b-8b44-77f702bdb665",
   "metadata": {},
   "outputs": [
    {
     "data": {
      "image/png": "[encoded data removed]",
      "text/plain": [
       "<Figure size 720x360 with 1 Axes>"
      ]
     },
     "metadata": {
      "needs_background": "light"
     },
     "output_type": "display_data"
    },
    {
     "data": {
      "text/html": [
       "<div>\n",
       "<style scoped>\n",
       "    .dataframe tbody tr th:only-of-type {\n",
       "        vertical-align: middle;\n",
       "    }\n",
       "\n",
       "    .dataframe tbody tr th {\n",
       "        vertical-align: top;\n",
       "    }\n",
       "\n",
       "    .dataframe thead th {\n",
       "        text-align: right;\n",
       "    }\n",
       "</style>\n",
       "<table border=\"1\" class=\"dataframe\">\n",
       "  <thead>\n",
       "    <tr style=\"text-align: right;\">\n",
       "      <th></th>\n",
       "      <th>count_x</th>\n",
       "      <th>count_y</th>\n",
       "      <th>count_z</th>\n",
       "      <th>diff_X/Y</th>\n",
       "      <th>diff_X/Z</th>\n",
       "      <th>diff_Y/Z</th>\n",
       "    </tr>\n",
       "    <tr>\n",
       "      <th>subject</th>\n",
       "      <th></th>\n",
       "      <th></th>\n",
       "      <th></th>\n",
       "      <th></th>\n",
       "      <th></th>\n",
       "      <th></th>\n",
       "    </tr>\n",
       "  </thead>\n",
       "  <tbody>\n",
       "    <tr>\n",
       "      <th>college computer science</th>\n",
       "      <td>97</td>\n",
       "      <td>98</td>\n",
       "      <td>86</td>\n",
       "      <td>-0.010309</td>\n",
       "      <td>0.113402</td>\n",
       "      <td>0.122449</td>\n",
       "    </tr>\n",
       "    <tr>\n",
       "      <th>medical genetics</th>\n",
       "      <td>97</td>\n",
       "      <td>100</td>\n",
       "      <td>89</td>\n",
       "      <td>-0.030928</td>\n",
       "      <td>0.082474</td>\n",
       "      <td>0.110000</td>\n",
       "    </tr>\n",
       "    <tr>\n",
       "      <th>college chemistry</th>\n",
       "      <td>96</td>\n",
       "      <td>98</td>\n",
       "      <td>86</td>\n",
       "      <td>-0.020833</td>\n",
       "      <td>0.104167</td>\n",
       "      <td>0.122449</td>\n",
       "    </tr>\n",
       "    <tr>\n",
       "      <th>computer security</th>\n",
       "      <td>95</td>\n",
       "      <td>98</td>\n",
       "      <td>88</td>\n",
       "      <td>-0.031579</td>\n",
       "      <td>0.073684</td>\n",
       "      <td>0.102041</td>\n",
       "    </tr>\n",
       "    <tr>\n",
       "      <th>world religions</th>\n",
       "      <td>11</td>\n",
       "      <td>106</td>\n",
       "      <td>50</td>\n",
       "      <td>-8.636364</td>\n",
       "      <td>-3.545455</td>\n",
       "      <td>0.528302</td>\n",
       "    </tr>\n",
       "  </tbody>\n",
       "</table>\n",
       "</div>"
      ],
      "text/plain": [
       "                          count_x  count_y  count_z  diff_X/Y  diff_X/Z  \\\n",
       "subject                                                                   \n",
       "college computer science       97       98       86 -0.010309  0.113402   \n",
       "medical genetics               97      100       89 -0.030928  0.082474   \n",
       "college chemistry              96       98       86 -0.020833  0.104167   \n",
       "computer security              95       98       88 -0.031579  0.073684   \n",
       "world religions                11      106       50 -8.636364 -3.545455   \n",
       "\n",
       "                          diff_Y/Z  \n",
       "subject                             \n",
       "college computer science  0.122449  \n",
       "medical genetics          0.110000  \n",
       "college chemistry         0.122449  \n",
       "computer security         0.102041  \n",
       "world religions           0.528302  "
      ]
     },
     "execution_count": 9,
     "metadata": {},
     "output_type": "execute_result"
    }
   ],
   "source": [
    "# A\n",
    "\n",
    "df_subjects = pd.DataFrame()\n",
    "df_subjects['count_x'] = df_x_joined['subject'].value_counts()\n",
    "df_subjects['count_y'] = df_y_joined['subject'].value_counts()\n",
    "df_subjects['count_z'] = df_z_joined['subject'].value_counts()\n",
    "\n",
    "df_subjects.plot(kind='bar', figsize=(10, 5), fontsize=8)\n",
    "plt.show()\n",
    "\n",
    "df_subjects['diff_X/Y'] = (df_subjects['count_x'] - df_subjects['count_y'])/df_subjects['count_x']\n",
    "df_subjects['diff_X/Z'] = (df_subjects['count_x'] - df_subjects['count_z'])/df_subjects['count_x']\n",
    "df_subjects['diff_Y/Z'] = (df_subjects['count_y'] - df_subjects['count_z'])/df_subjects['count_y']\n",
    "\n",
    "df_subjects_imb = df_subjects[(np.abs(df_subjects['diff_X/Y']) > 0.1) | (np.abs(df_subjects['diff_X/Z']) > 0.1) \n",
    "                              | (np.abs(df_subjects['diff_Y/Z']) > 0.1)]\n",
    "\n",
    "df_subjects_imb"
   ]
  },
  {
   "cell_type": "code",
   "execution_count": 10,
   "id": "2fb8c324",
   "metadata": {},
   "outputs": [
    {
     "data": {
      "image/png": "[encoded data removed]",
      "text/plain": [
       "<Figure size 720x360 with 1 Axes>"
      ]
     },
     "metadata": {
      "needs_background": "light"
     },
     "output_type": "display_data"
    },
    {
     "data": {
      "text/html": [
       "<div>\n",
       "<style scoped>\n",
       "    .dataframe tbody tr th:only-of-type {\n",
       "        vertical-align: middle;\n",
       "    }\n",
       "\n",
       "    .dataframe tbody tr th {\n",
       "        vertical-align: top;\n",
       "    }\n",
       "\n",
       "    .dataframe thead th {\n",
       "        text-align: right;\n",
       "    }\n",
       "</style>\n",
       "<table border=\"1\" class=\"dataframe\">\n",
       "  <thead>\n",
       "    <tr style=\"text-align: right;\">\n",
       "      <th></th>\n",
       "      <th>count_x</th>\n",
       "      <th>count_y</th>\n",
       "      <th>count_z</th>\n",
       "    </tr>\n",
       "    <tr>\n",
       "      <th>subject</th>\n",
       "      <th></th>\n",
       "      <th></th>\n",
       "      <th></th>\n",
       "    </tr>\n",
       "  </thead>\n",
       "  <tbody>\n",
       "  </tbody>\n",
       "</table>\n",
       "</div>"
      ],
      "text/plain": [
       "Empty DataFrame\n",
       "Columns: [count_x, count_y, count_z]\n",
       "Index: []"
      ]
     },
     "execution_count": 10,
     "metadata": {},
     "output_type": "execute_result"
    }
   ],
   "source": [
    "# B\n",
    "\n",
    "# For each subject where there is an imbalance of more than 10%, remove randomly samples from the subject in the df with the highest count\n",
    "# to reach a balance with the other df.\n",
    "\n",
    "imb_subjects = df_subjects_imb.index\n",
    "\n",
    "for subject in imb_subjects:\n",
    "    count_x = df_subjects.loc[subject, 'count_x']\n",
    "    count_y = df_subjects.loc[subject, 'count_y']\n",
    "    count_z = df_subjects.loc[subject, 'count_z']\n",
    "    \n",
    "    min_count = min(count_x, count_y, count_z)\n",
    "\n",
    "    df_x_joined = df_x_joined.drop(df_x_joined[df_x_joined['subject'] == subject].sample(n=count_x - min_count).index)\n",
    "    df_y_joined = df_y_joined.drop(df_y_joined[df_y_joined['subject'] == subject].sample(n=count_y - min_count).index)\n",
    "    df_z_joined = df_z_joined.drop(df_z_joined[df_z_joined['subject'] == subject].sample(n=count_z - min_count).index)\n",
    "\n",
    "df_subjects = pd.DataFrame()\n",
    "df_subjects['count_x'] = df_x_joined['subject'].value_counts()\n",
    "df_subjects['count_y'] = df_y_joined['subject'].value_counts()\n",
    "df_subjects['count_z'] = df_z_joined['subject'].value_counts()\n",
    "\n",
    "df_subjects.plot(kind='bar', figsize=(10, 5), fontsize=8)\n",
    "plt.show()\n",
    "\n",
    "df_subjects_imb = df_subjects[(np.abs(df_subjects['count_x'] - df_subjects['count_y'])/df_subjects['count_x'] > 0.1)\n",
    "                                | (np.abs(df_subjects['count_x'] - df_subjects['count_z'])/df_subjects['count_x'] > 0.1)\n",
    "                                | (np.abs(df_subjects['count_y'] - df_subjects['count_z'])/df_subjects['count_y'] > 0.1)]\n",
    "\n",
    "df_subjects_imb # There are no more imbalances"
   ]
  },
  {
   "cell_type": "code",
   "execution_count": 11,
   "id": "affc3746",
   "metadata": {},
   "outputs": [
    {
     "name": "stdout",
     "output_type": "stream",
     "text": [
      "df_x_joined score: 0.338955223880597\n",
      "df_y_joined score: 0.3419278358153664\n",
      "df_z_joined score: 0.3152893527533297\n"
     ]
    }
   ],
   "source": [
    "# C\n",
    "\n",
    "print('df_x_joined score:', df_x_joined['correct'].mean())\n",
    "print('df_y_joined score:', df_y_joined['correct'].mean())\n",
    "print('df_z_joined score:', df_z_joined['correct'].mean())"
   ]
  },
  {
   "cell_type": "markdown",
   "id": "292b2f61-0529-4b6d-a3a7-af786a4d79ae",
   "metadata": {},
   "source": [
    "## Task 2 (26 points): What do you mean A > D > B > C...?\n",
    "\n",
    "Nice work! Having successfully inspected, cleaned, and rebalanced the provided data, you head over to director of the government's NEUTRALITY project. Ms. Sakota is happy with your work so far, but worried that the sloppy intern might have done more undetected damage. To be sure, she orders a new set of evaluations of all models on both MMLU and another dataset.\n",
    "\n",
    "After cleaning up and rebalancing, you are left with the concatenated score files in the second folder `task_2`:\n",
    "```\n",
    "task_2/\n",
    "│\n",
    "└── lm_scores_mmlu.csv\n",
    "│\n",
    "└── lm_scores_other.csv\n",
    "```\n",
    "\n",
    "Each has a new column called `model_name`, which is one of `X, Y` or `Z`.\n",
    "\n",
    "\n",
    "\n",
    "_NOTE: **only** use data from `task_2` and `task_2_5` for this assignment! The values in `lm_scores_mmlu.csv` will NOT be the same as the dataframes you finished in task 1. This is due to \"randomness\" or \"temperature\" in language model inference. This can slightly shift around generative results. (Conveniently: it also ensures any mistakes made in Task 1 don't propogate further ;) )_"
   ]
  },
  {
   "cell_type": "code",
   "execution_count": 286,
   "id": "a889a76b-e034-4d2f-929e-0ef1f250a0a0",
   "metadata": {},
   "outputs": [],
   "source": [
    "# PROVIDED CODE\n",
    "df_mmlu = pd.read_csv('task_2/lm_scores_mmlu.csv')\n",
    "df_other = pd.read_csv('task_2/lm_scores_other.csv')"
   ]
  },
  {
   "cell_type": "markdown",
   "id": "c31edde3-cc91-4d08-81c7-b5e98cf0ff9c",
   "metadata": {},
   "source": [
    "### 2.1 (4 pt)\n",
    "\n",
    "Let's explore the new results:\n",
    "\n",
    "A. Compute the mean accuracy and standard errors of each model on both datasets and print the results.\n",
    "\n",
    "B. Then, show your results in a bar plot using standard errors with a 95% confidence interval around the mean. Make sure the plot is easy to read and well annotated.\n",
    "\n",
    "C. /Discuss:/ the plot you created: (i) can you say that one of the models is the best? (ii) is there anything that seems odd?"
   ]
  },
  {
   "cell_type": "code",
   "execution_count": 287,
   "id": "56fe8cca-acd1-4f5e-a938-e8d3a850f220",
   "metadata": {},
   "outputs": [
    {
     "name": "stdout",
     "output_type": "stream",
     "text": [
      "\n",
      "Model: X\n",
      "mmlu : mean= 0.744, std= 0.437\n",
      "other: mean= 0.788, std= 0.409\n",
      "\n",
      "Model: Y\n",
      "mmlu : mean= 0.762, std= 0.426\n",
      "other: mean= 0.721, std= 0.449\n",
      "\n",
      "Model: Z\n",
      "mmlu : mean= 0.656, std= 0.475\n",
      "other: mean= 0.672, std= 0.470\n"
     ]
    }
   ],
   "source": [
    "# A\n",
    "models = [\"X\", \"Y\", \"Z\"]\n",
    "for model in models:\n",
    "    print(f\"\\nModel: {model}\")\n",
    "    print(f\"mmlu : mean= {df_mmlu[df_mmlu['model_name'] == model]['correct'].mean():.3f}, std= {df_mmlu[df_mmlu['model_name'] == model]['correct'].std():.3f}\")\n",
    "    print(f\"other: mean= {df_other[df_other['model_name'] == model]['correct'].mean():.3f}, std= {df_other[df_other['model_name'] == model]['correct'].std():.3f}\")"
   ]
  },
  {
   "cell_type": "code",
   "execution_count": 288,
   "id": "d3a176c6",
   "metadata": {},
   "outputs": [
    {
     "data": {
      "image/png": "[encoded data removed]",
      "text/plain": [
       "<Figure size 720x432 with 1 Axes>"
      ]
     },
     "metadata": {
      "needs_background": "light"
     },
     "output_type": "display_data"
    }
   ],
   "source": [
    "# B\n",
    "import seaborn as sns\n",
    "\n",
    "# Combine into a single df for plotting\n",
    "df_mmlu['dataset'] = 'MMLU'\n",
    "df_other['dataset'] = 'Other'\n",
    "df_combined = pd.concat([df_mmlu, df_other])\n",
    "\n",
    "plt.figure(figsize=(10, 6))\n",
    "ax = sns.barplot(x=\"model_name\", y=\"correct\", hue=\"dataset\", data=df_combined, errorbar=('ci', 95))\n",
    "plt.title(\"Comparison of MMLU and Other\")\n",
    "plt.show()"
   ]
  },
  {
   "cell_type": "markdown",
   "id": "65c9fbfe",
   "metadata": {},
   "source": [
    "C. /Discuss:/\n",
    "- Model X:\n",
    "  - performs better on Other dataset. CI aren't large enough to ignore the difference.\n",
    "- Model Y:\n",
    "  - performs better on MMLU dataset. CI aren't large enough to ignore the difference.\n",
    "- Model Z:\n",
    "  - performs slightly better on Other dataset but the difference can be ignored due to CI\n",
    "\n",
    "**Summary:**\n",
    "- X performs better on MMLU and Y performs better on Other dataset consistently. Z performs slightly better on Other datasets but this can be ignored due to variability. \n",
    "- From visual inspection, Other dataset has slightly larger error bars i-e CI which shows that the results from Other dataset are somewhat more variable and less consistent overall.\n"
   ]
  },
  {
   "cell_type": "markdown",
   "id": "eee0ec62-f2d1-4bae-a6f6-221320d602cb",
   "metadata": {},
   "source": [
    "### 2.2 (5 pt)\n",
    "\n",
    "Ms. Sakota has assured you that both datasets contain questions of similar difficulty, so, what could be going on here?\n",
    "\n",
    "A. What is the distribution of correct answers (A, B, C, D) for each dataset? Create a bar chart to visualize this.\n",
    "\n",
    "B. Perform a chi-square test at $\\alpha = 0.05$, of independence to determine if there's a significant difference in the distribution of correct answers between the two datasets. What do you conclude?\n",
    "\n",
    "**hints**:\n",
    "- for (A), keep in mind that df_mmlu and df_other contain the results of all models, i.e., the `question_id` column is duplicated.\n",
    "- for (A), take care to clearly annotate the bar chart, e.g., title, y-label, legend.\n",
    "- for (B), clearly state the null hypothesis and alternative hypothesis\n",
    "- use the `chi2_contingency` function from `scipy.stats`\n",
    "- format your results from answer (A) as a 2D array"
   ]
  },
  {
   "cell_type": "code",
   "execution_count": 316,
   "id": "30b16f70-93e0-4a19-8a6d-b3ae5a75ae65",
   "metadata": {},
   "outputs": [
    {
     "data": {
      "image/png": "[encoded data removed]",
      "text/plain": [
       "<Figure size 720x432 with 1 Axes>"
      ]
     },
     "metadata": {
      "needs_background": "light"
     },
     "output_type": "display_data"
    },
    {
     "data": {
      "image/png": "[encoded data removed]",
      "text/plain": [
       "<Figure size 720x432 with 1 Axes>"
      ]
     },
     "metadata": {
      "needs_background": "light"
     },
     "output_type": "display_data"
    }
   ],
   "source": [
    "# A\n",
    "datasets = {\"MMLU\": df_mmlu, \"Other\": df_other}\n",
    "contingency_table = []\n",
    "for name, df in datasets.items():\n",
    "    plt.figure(figsize=(10, 6))\n",
    "    df['answer'] = pd.Categorical(df['answer'], ordered=True) # for consistent x-axis\n",
    "    df = df.drop_duplicates(subset=[\"question_id\"])\n",
    "    ax = sns.histplot(data=df, x=\"answer\", stat=\"count\", color=\"blue\" if name==\"MMLU\" else \"red\")\n",
    "    ax.set_title(f\"Distribution of Correct Answers for Dataset: {name}\")\n",
    "    ax.set_xlabel(\"Correct Answer\")\n",
    "    ax.set_ylabel(\"Count of Qs\")\n",
    "    contingency_table.append(df[\"answer\"].value_counts().sort_index())\n",
    "contingency_table = np.array(contingency_table)\n"
   ]
  },
  {
   "cell_type": "code",
   "execution_count": 305,
   "id": "92392cd7",
   "metadata": {},
   "outputs": [
    {
     "name": "stdout",
     "output_type": "stream",
     "text": [
      "p-value: 4.270849602795191e-136\n",
      "There is a significant difference in the distribution of correct answers between the two datasets.\n"
     ]
    }
   ],
   "source": [
    "# B\n",
    "from scipy.stats import chi2_contingency\n",
    "\n",
    "test_stat, p_val, degree, expected = chi2_contingency(contingency_table)\n",
    "print(f\"p-value: {p_val}\")\n",
    "alpha = 0.05\n",
    "if p_val < alpha:\n",
    "    print(\"There is a significant difference in the distribution of correct answers between the two datasets.\")\n",
    "else:\n",
    "    print(\"There isn't significant difference in the distribution of correct answers between the two datasets.\")"
   ]
  },
  {
   "cell_type": "markdown",
   "id": "2d3125ad-5a7e-44e7-999a-a0ff99855d39",
   "metadata": {},
   "source": [
    "### 2.3 (7 pt)\n",
    "\n",
    "Let's dive in deeper:\n",
    "\n",
    "A. What is language model X's mean accuracy conditioned on the four answer options for each dataset?\n",
    "\n",
    "B. Compare LM X's performance when the correct answer is \"A\" between the two datasets. Use a T-test with CI = 0.95. What do you conclude?\n",
    "\n",
    "C. Compare LM X's performance when the correct answer is \"A\" vs. \"C or D\" for each dataset. Use a T-test with CI = 0.95. What do you conclude?"
   ]
  },
  {
   "cell_type": "code",
   "execution_count": 349,
   "id": "39097a11-8efe-46d1-8bc3-5587bb58d199",
   "metadata": {},
   "outputs": [
    {
     "name": "stdout",
     "output_type": "stream",
     "text": [
      "Model X's mean accuracy:\n"
     ]
    },
    {
     "data": {
      "text/html": [
       "<div>\n",
       "<style scoped>\n",
       "    .dataframe tbody tr th:only-of-type {\n",
       "        vertical-align: middle;\n",
       "    }\n",
       "\n",
       "    .dataframe tbody tr th {\n",
       "        vertical-align: top;\n",
       "    }\n",
       "\n",
       "    .dataframe thead th {\n",
       "        text-align: right;\n",
       "    }\n",
       "</style>\n",
       "<table border=\"1\" class=\"dataframe\">\n",
       "  <thead>\n",
       "    <tr style=\"text-align: right;\">\n",
       "      <th></th>\n",
       "      <th>A</th>\n",
       "      <th>B</th>\n",
       "      <th>C</th>\n",
       "      <th>D</th>\n",
       "    </tr>\n",
       "    <tr>\n",
       "      <th>dataset</th>\n",
       "      <th></th>\n",
       "      <th></th>\n",
       "      <th></th>\n",
       "      <th></th>\n",
       "    </tr>\n",
       "  </thead>\n",
       "  <tbody>\n",
       "    <tr>\n",
       "      <th>MMLU</th>\n",
       "      <td>0.972688</td>\n",
       "      <td>0.799185</td>\n",
       "      <td>0.707905</td>\n",
       "      <td>0.633592</td>\n",
       "    </tr>\n",
       "    <tr>\n",
       "      <th>Other</th>\n",
       "      <td>0.974026</td>\n",
       "      <td>0.806452</td>\n",
       "      <td>0.676407</td>\n",
       "      <td>0.603744</td>\n",
       "    </tr>\n",
       "  </tbody>\n",
       "</table>\n",
       "</div>"
      ],
      "text/plain": [
       "                A         B         C         D\n",
       "dataset                                        \n",
       "MMLU     0.972688  0.799185  0.707905  0.633592\n",
       "Other    0.974026  0.806452  0.676407  0.603744"
      ]
     },
     "execution_count": 349,
     "metadata": {},
     "output_type": "execute_result"
    }
   ],
   "source": [
    "# A\n",
    "options = [\"A\", \"B\", \"C\", \"D\"]\n",
    "def accuracy_per_option(group):\n",
    "    option_to_accuracy = {}\n",
    "    for option in options:\n",
    "        mean = group[group[\"answer\"]==option][\"correct\"].mean()\n",
    "        option_to_accuracy[option] = mean\n",
    "    return pd.Series(option_to_accuracy)\n",
    "\n",
    "df_combined = pd.concat([df_mmlu, df_other])  \n",
    "df_x = df_combined[df_combined[\"model_name\"] == \"X\"].groupby(\"dataset\").apply(accuracy_per_option)\n",
    "print(\"Model X's mean accuracy:\")\n",
    "df_x"
   ]
  },
  {
   "cell_type": "code",
   "execution_count": 334,
   "id": "9ae67c09",
   "metadata": {},
   "outputs": [
    {
     "name": "stdout",
     "output_type": "stream",
     "text": [
      "p-value: 0.833\n",
      "It is greater than 0.05 -> we cannot reject the null hypothesis that the performance is the same. So,\n",
      "There is NO significant difference between LM X's performance in the two datasets in when correct answer is 'A'\n"
     ]
    }
   ],
   "source": [
    "# B\n",
    "test_stat, p_val = ttest_ind(df_mmlu[(df_mmlu[\"model_name\"]==\"X\")&(df_mmlu[\"answer\"]==\"A\")][\"correct\"], df_other[(df_other[\"model_name\"]==\"X\")&(df_other[\"answer\"]==\"A\")][\"correct\"])\n",
    "print(f\"p-value: {p_val:.3f}\")\n",
    "if p_val < 0.05:\n",
    "    pass\n",
    "else:\n",
    "    print(\"It is greater than 0.05 -> we cannot reject the null hypothesis that the performance is the same. So,\")\n",
    "    print(\"There is NO significant difference between LM X's performance in the two datasets in when correct answer is 'A'\")"
   ]
  },
  {
   "cell_type": "code",
   "execution_count": 333,
   "id": "636af6a6",
   "metadata": {},
   "outputs": [
    {
     "name": "stdout",
     "output_type": "stream",
     "text": [
      "\n",
      "Dataset: MMLU\n",
      "p-value: 5.3349064972249464e-139\n",
      "It is less than 0.05 -> we can reject the null hypothesis that the performance is the same. So,\n",
      "There is significant difference between LM X's performance when the correct answer is 'A' vs. 'C' or 'D'\n",
      "\n",
      "Dataset: Other\n",
      "p-value: 5.900859805611251e-96\n",
      "It is less than 0.05 -> we can reject the null hypothesis that the performance is the same. So,\n",
      "There is significant difference between LM X's performance when the correct answer is 'A' vs. 'C' or 'D'\n"
     ]
    }
   ],
   "source": [
    "# C\n",
    "for name, df in datasets.items():\n",
    "    print(f\"\\nDataset: {name}\")\n",
    "    df = df[df[\"model_name\"]==\"X\"]\n",
    "    test_stat, p_val = ttest_ind( df[df[\"answer\"]==\"A\"][\"correct\"], df[df[\"answer\"].isin([\"C\", \"D\"])][\"correct\"])\n",
    "    print(f\"p-value: {p_val}\")\n",
    "    if p_val < 0.05:\n",
    "        print(\"It is smaller than 0.05 -> we can reject the null hypothesis that the performance is the same. So,\")\n",
    "        print(\"There is significant difference between LM X's performance when the correct answer is 'A' vs. 'C' or 'D'\")\n",
    "    else:\n",
    "        pass"
   ]
  },
  {
   "cell_type": "markdown",
   "id": "33848ff9-2604-4e48-b5df-3207dc81e9a9",
   "metadata": {},
   "source": [
    "### 2.4 (2 pt)\n",
    "\n",
    "What an intriguing finding! \n",
    "\n",
    "A. Print the mean accuracies conditioned on the correct answer for all LMs for each dataset.\n",
    "\n",
    "B. /Discuss:/ What do you observe?"
   ]
  },
  {
   "cell_type": "code",
   "execution_count": 414,
   "id": "ec53ce2c-866e-440a-ac79-7813cb756782",
   "metadata": {},
   "outputs": [
    {
     "name": "stdout",
     "output_type": "stream",
     "text": [
      "Mean accuracy:\n"
     ]
    },
    {
     "data": {
      "text/html": [
       "<div>\n",
       "<style scoped>\n",
       "    .dataframe tbody tr th:only-of-type {\n",
       "        vertical-align: middle;\n",
       "    }\n",
       "\n",
       "    .dataframe tbody tr th {\n",
       "        vertical-align: top;\n",
       "    }\n",
       "\n",
       "    .dataframe thead th {\n",
       "        text-align: right;\n",
       "    }\n",
       "</style>\n",
       "<table border=\"1\" class=\"dataframe\">\n",
       "  <thead>\n",
       "    <tr style=\"text-align: right;\">\n",
       "      <th></th>\n",
       "      <th>A</th>\n",
       "      <th>B</th>\n",
       "      <th>C</th>\n",
       "      <th>D</th>\n",
       "    </tr>\n",
       "    <tr>\n",
       "      <th>dataset</th>\n",
       "      <th></th>\n",
       "      <th></th>\n",
       "      <th></th>\n",
       "      <th></th>\n",
       "    </tr>\n",
       "  </thead>\n",
       "  <tbody>\n",
       "    <tr>\n",
       "      <th>MMLU</th>\n",
       "      <td>0.746534</td>\n",
       "      <td>0.709480</td>\n",
       "      <td>0.703497</td>\n",
       "      <td>0.732995</td>\n",
       "    </tr>\n",
       "    <tr>\n",
       "      <th>Other</th>\n",
       "      <td>0.760049</td>\n",
       "      <td>0.712664</td>\n",
       "      <td>0.700577</td>\n",
       "      <td>0.733749</td>\n",
       "    </tr>\n",
       "  </tbody>\n",
       "</table>\n",
       "</div>"
      ],
      "text/plain": [
       "                A         B         C         D\n",
       "dataset                                        \n",
       "MMLU     0.746534  0.709480  0.703497  0.732995\n",
       "Other    0.760049  0.712664  0.700577  0.733749"
      ]
     },
     "execution_count": 414,
     "metadata": {},
     "output_type": "execute_result"
    }
   ],
   "source": [
    "# A\n",
    "options = [\"A\", \"B\", \"C\", \"D\"]\n",
    "def accuracy_per_option(group):\n",
    "    option_to_accuracy = {}\n",
    "    for option in options:\n",
    "        mean = group[group[\"answer\"]==option][\"correct\"].mean()\n",
    "        option_to_accuracy[option] = mean\n",
    "    return pd.Series(option_to_accuracy)\n",
    "\n",
    "df_combined = pd.concat([df_mmlu, df_other])  \n",
    "df_models = df_combined.groupby(\"dataset\").apply(accuracy_per_option)\n",
    "print(\"Mean accuracy:\")\n",
    "df_models"
   ]
  },
  {
   "cell_type": "markdown",
   "id": "4ce58e47",
   "metadata": {},
   "source": [
    "B. /Discuss:/\n",
    "- Both datasets have similar mean accuracy when condition on the correct answer."
   ]
  },
  {
   "cell_type": "markdown",
   "id": "ccdd9d3c-5a03-4b30-84f7-a7dfbee1373e",
   "metadata": {},
   "source": [
    "### 2.5 (2 pt)\n",
    "\n",
    "Concerned with your findings so far, you quickly consult with Ms. Sakota. After thinking it over, Ms. Sakota concludes that more tests are needed. She orders a second round of MMLU results. However, the clever Ms. Sakota thinks of the following twist: while keeping questions fixed, she randomly permutes the position of the correct answer. The new results can be found in the folder `data/task_2_5/`:\n",
    "```\n",
    "task_2_5/\n",
    "│\n",
    "└── lm_scores_mmlu_shuffle.csv\n",
    "```\n",
    "\n",
    "/Discuss:/ Why would Ms. Sakota do this?"
   ]
  },
  {
   "cell_type": "markdown",
   "id": "64cc586a",
   "metadata": {},
   "source": [
    "/Discuss:/\n",
    "- We observed in Part 2.3-A and 2.3-C that accuracy of Model X varied significantly based on the position of the correct option (A,B,C or D).\n",
    "- Randomly permuting the position of the correct answer allows for a more accurate evaluation of the LM's performance, ensuring whether its response is based on the content of the question rather than the position of the correct answer."
   ]
  },
  {
   "cell_type": "markdown",
   "id": "b9150ae0-dbaa-4c88-bf80-ec03127c6945",
   "metadata": {},
   "source": [
    "### 2.6 (4 pt)\n",
    "\n",
    "Increasingly sceptical of the language models' performance, you read up on proper testing practices. You stumble upon the concept of [test-rested stability](https://en.wikipedia.org/wiki/Repeatability), which roughtly states that:\n",
    "\n",
    "\"_Measurements taken by a single person or instrument on the same item, under the same conditions, and in a short period of time, should have the same results._\"\n",
    "\n",
    "In our case, we would assume an LM would have the same performance on a given question regardless of the correct answer position. One way of testing this is by using the following metric:\n",
    "\n",
    "$$\\text{test-retest metric} = \\frac{1}{N}\\sum_{i=1}^N \\frac{1}{M}\\sum_{j=1}^M c^i_0 c_j^i,$$\n",
    "\n",
    "where $c^i_0 \\in \\{0, 1\\}$ indicates whether the model answers the $i^{\\text{th}}$ question correctly (1 if correct, 0 if incorrect). $c_j^i$ indicates whether the model answers the $i^{\\text{th}}$ question correctly in the $j^{\\text{th}}$ shuffled version of the answer label content. Finally, $M$ is the total number of shuffles and $N$ is the dataset size.\n",
    "\n",
    "Task: compute the test-retest metric for each language model using the original `lm_scores_mmlu.csv` file and the new `lm_scores_mmlu_shuffle.csv` file. Using a bar plot, visualize your results by comparing the accuracy of the original `lm_scores_mmlu.csv` and the test-retest scores.\n",
    "\n",
    "**hints**\n",
    "- what is $M$ in our case?\n",
    "\n",
    "(bonus: no points, but so much sweet, sweet knowledge - check out [the following article](https://arxiv.org/pdf/2406.19470v1))"
   ]
  },
  {
   "cell_type": "code",
   "execution_count": 405,
   "id": "5b55fcfc-6de9-4cd3-bf2d-bde399ae2fbc",
   "metadata": {},
   "outputs": [
    {
     "name": "stdout",
     "output_type": "stream",
     "text": [
      "Test-Retest Metric:\n",
      "Model X= 0.588\n",
      "Model Y= 0.572\n",
      "Model Z= 0.442\n"
     ]
    },
    {
     "data": {
      "image/png": "[encoded data removed]",
      "text/plain": [
       "<Figure size 720x432 with 1 Axes>"
      ]
     },
     "metadata": {
      "needs_background": "light"
     },
     "output_type": "display_data"
    }
   ],
   "source": [
    "df_mmlu_shuffled = pd.read_csv(\"task_2_5/lm_scores_mmlu_shuffle.csv\")\n",
    "df_combined = df_mmlu.merge(df_mmlu_shuffled,on=[\"question_id\",\"model_name\"])\n",
    "\n",
    "# Task-1 - compute test-retest metric for each model\n",
    "M = 1 # for information\n",
    "df_combined[\"co_cj\"] = df_combined[\"correct_x\"] * df_combined[\"correct_y\"] # test-retest scores\n",
    "print(\"Test-Retest Metric:\")\n",
    "for model in models:\n",
    "    df = df_combined[df_combined[\"model_name\"]==model]\n",
    "    tr_metric = df[\"co_cj\"].mean()\n",
    "    print(f\"Model {model}= {tr_metric:.3f}\")\n",
    "\n",
    "# Task-2 - bar plot for accuracy vs test-retest scores\n",
    "df_melted = df_combined.melt(id_vars=[\"model_name\"], value_vars=[\"correct_x\", \"co_cj\"], var_name=\"metric\", value_name=\"value\")\n",
    "df_melted[\"metric\"] = df_melted[\"metric\"].map({\"correct_x\": \"accuracy\", \"co_cj\": \"test-retest score\"}) # Map metric names to meaningful labels\n",
    "plt.figure(figsize=(10, 6))\n",
    "sns.barplot(data=df_melted, x=\"model_name\", y=\"value\", hue=\"metric\", palette=[\"red\", \"blue\"])\n",
    "plt.title(\"Accuracy vs Test-Retest Scores\")\n",
    "plt.show()"
   ]
  },
  {
   "cell_type": "markdown",
   "id": "b70bee6e-0c81-4f5a-b1a8-16a96aa2ae17",
   "metadata": {},
   "source": [
    "### 2.7 (2 pt)\n",
    "\n",
    "A. Using the unshuffled data: For each LM, print the distribution of the answers they give as well as the accuracy conditioned on the answer they give.\n",
    "\n",
    "B. /Discuss:/ Describe what you observe\n",
    "\n",
    "[bonus: not scored, but again _that sweet, sweet knowledge_] Could you think of a plausible explanation?"
   ]
  },
  {
   "cell_type": "code",
   "execution_count": 412,
   "id": "4956581b-d047-46cb-ae71-1508a9a0b466",
   "metadata": {},
   "outputs": [
    {
     "name": "stdout",
     "output_type": "stream",
     "text": [
      "\n",
      "Model X:\n",
      "A - accuracy: 0.368, distribution: 36.414%\n",
      "B - accuracy: 0.885, distribution: 22.734%\n",
      "C - accuracy: 1.000, distribution: 20.597%\n",
      "D - accuracy: 1.000, distribution: 20.255%\n",
      "\n",
      "Model Y:\n",
      "A - accuracy: 0.938, distribution: 9.166%\n",
      "B - accuracy: 0.898, distribution: 19.289%\n",
      "C - accuracy: 0.828, distribution: 25.778%\n",
      "D - accuracy: 0.632, distribution: 45.768%\n",
      "\n",
      "Model Z:\n",
      "A - accuracy: 0.476, distribution: 18.605%\n",
      "B - accuracy: 0.654, distribution: 24.667%\n",
      "C - accuracy: 0.703, distribution: 27.676%\n",
      "D - accuracy: 0.727, distribution: 29.053%\n"
     ]
    }
   ],
   "source": [
    "# A\n",
    "for model in models:\n",
    "    print(f\"\\nModel {model}:\")\n",
    "    df_model = df_mmlu[df_mmlu[\"model_name\"]==model]\n",
    "    for op in options:\n",
    "        df = df_model[df_model[\"result\"]==op]\n",
    "        accuracy = df[\"correct\"].mean()\n",
    "        distribution = (len(df)/len(df_model))  * 100\n",
    "        print(f\"{op} - accuracy: {accuracy:.3f}, distribution: {distribution:.3f}%\")"
   ]
  },
  {
   "cell_type": "markdown",
   "id": "65639228",
   "metadata": {},
   "source": [
    "B. /Discuss:/\n",
    "- Model X has surprisingly 100% accuracy when correct option is either C or D.\n",
    "- I think most of the questions where it got trained had C or D as correct answers which is why Model X inclines towards these."
   ]
  },
  {
   "cell_type": "markdown",
   "id": "ce3186fe-ef8e-4af3-9a07-a6081d454e5a",
   "metadata": {},
   "source": [
    "## Task 3 (16 points): What do Questions and Answers look like for a Language Model?\n",
    "\n",
    "While you feel pretty good about the tests you conducted so far, something still bothers you: what if the language models don't see the data like you do? Suddenly, you receive a phone call from a wise AI sage in the West, _Westoda_:\n",
    "\n",
    "```\n",
    "\"Hmm, correct you are, young padawan, to question how the world is seen by large language models! Simple 'text' it is not, hmm? No, no, no! Characters and words, the way of puny humans, this is not, heh heh heh.\n",
    "\n",
    "'Tokens', they use, yes! Mysterious and powerful, these tokens are. Expand our vocabulary, they do, beyond the simple 'a to Z'. Chunky blocks of text, they become, yes! 'Hello world', a simple phrase it may seem. But to a language model, '[24912, 2375]' it might appear, yes! Confusing, it is, hmm?\n",
    "\n",
    "Wise, it would be, to explore these MMLU data points through the eyes of a language model, you think? Yes, yes! Much to learn, there is. The ways of the tokens, understand you must, if truly comprehend the great LMs, you wish to.\n",
    "Meditate on this, you should. The force of natural language processing, strong it is. But patience, you must have, my young padawan. For only through great study and contemplation, will the mysteries of the tokens reveal themselves to you, they will. Yes, hmmm!\"\n",
    "```\n",
    "\n",
    "Admittingly, Westoda at times speaks in riddles… However, he was explaining a crucial aspect of modern LMs called [Tokenization](https://learn.microsoft.com/en-us/dotnet/ai/conceptual/understanding-tokens):\n",
    "\n",
    "\n",
    "“Tokens are words, character sets, or combinations of words and punctuation that are used by [language models (LMs)] to decompose text into. Tokenization is the first step in training”\n",
    "\n",
    "Instead of characters, LMs process natural language using “tokens”. While this is useful for a number of reasons, it does at times introduce some “unintuitive” behavior…"
   ]
  },
  {
   "cell_type": "code",
   "execution_count": null,
   "id": "e2c66517-938b-4331-9eea-1b23fe4ad9e7",
   "metadata": {},
   "outputs": [],
   "source": [
    "# PROVIDED CODE\n",
    "\n",
    "try:\n",
    "    import tiktoken\n",
    "except Exception as e:\n",
    "    print('installing tiktoken package')\n",
    "    \n",
    "    !pip install tiktoken\n",
    "    \n",
    "    import tiktoken\n",
    "\n",
    "def tokenize_text(s):\n",
    "    enc = tiktoken.encoding_for_model('gpt-4o')\n",
    "    tokens = enc.encode(str(s))\n",
    "    return tokens\n",
    "\n",
    "example_string = 'hello world'\n",
    "print(f'humans see: \"{example_string}\" --> language models see: {tokenize_text(example_string)}')"
   ]
  },
  {
   "cell_type": "markdown",
   "id": "3c8019ee-7d52-496f-afff-c96f2f9db08c",
   "metadata": {},
   "source": [
    "### 3.1 (5 pt)\n",
    "\n",
    "Use the provided code in the cell above to \"see the world through the eyes of a language model\":\n",
    "\n",
    "A. Tokenize the questions of the original MMLU data provided in task 1: `task_1/mmlu_data/test.csv` and plot the token distribution (the frequency of each token).\n",
    "\n",
    "B. Same as (A), but now for the answers in columns (columns \"A\", \"B\", \"C\", and \"D\").\n",
    "\n",
    "C. Isolate the tokens for the strings \"A\", \"B\", \"C\", and \"D\", then, for their occurances in both questions and answers, print their relative distribution to each other.\n",
    "\n",
    "**hint**\n",
    "- There are a _lot_ of tokens, consider using a cutoff point and log scale\n",
    "- For (c), they should sum to 1"
   ]
  },
  {
   "cell_type": "code",
   "execution_count": null,
   "id": "a9a1e97b-3a31-41b1-a9c3-fb84cb1740d9",
   "metadata": {},
   "outputs": [],
   "source": [
    "# A"
   ]
  },
  {
   "cell_type": "code",
   "execution_count": null,
   "id": "fe1f8be8",
   "metadata": {},
   "outputs": [],
   "source": [
    "# B"
   ]
  },
  {
   "cell_type": "code",
   "execution_count": null,
   "id": "cd392df7",
   "metadata": {},
   "outputs": [],
   "source": [
    "# C"
   ]
  },
  {
   "cell_type": "markdown",
   "id": "a674929c-68e1-4cd8-97b3-efa0cdae4874",
   "metadata": {},
   "source": [
    "### 3.2 (3 pt)\n",
    "\n",
    "What if the number of \"A\", \"B\", \"C\", and \"D\" tokens in the question and answer pairs could influence a language model's decisions?\n",
    "\n",
    "A. For each combined question-answers pair, compute: \n",
    "1. the number of \"A\", \"B\", \"C\", and \"D\" tokens; and\n",
    "2. the total number of tokens.\n",
    "3. then, group by the \"correct\" answer and compute the mean frequency of A, B, C, and D tokens and the total number of tokens. \n",
    "4. finally, print your results\n",
    "\n",
    "B. /Discuss:/ What do you think of the hypothesis that the frequency of A, B, C, and D tokens could influence answers?\n"
   ]
  },
  {
   "cell_type": "code",
   "execution_count": null,
   "id": "25419cc1-f058-4c51-a0aa-577272b8b578",
   "metadata": {},
   "outputs": [],
   "source": [
    "# A"
   ]
  },
  {
   "cell_type": "markdown",
   "id": "3ea8a279",
   "metadata": {},
   "source": [
    "B. /Discuss:/"
   ]
  },
  {
   "cell_type": "markdown",
   "id": "af25ef95-d2ce-4112-87f7-8b0a52755e2a",
   "metadata": {},
   "source": [
    "### 3.3 (4 pt)\n",
    "\n",
    "Three of the most important considerations when deciding between language models are:\n",
    "\n",
    "Quality\n",
    "Costs\n",
    "Speed\n",
    "\n",
    "So far, much of your analysis has focused on quality. However, the government has indicated that they are quite concerned about both the total costs and speed as well. Specifically, it has been brought to their attention that a new `turbo` model has been launched! \n",
    "\n",
    "This model is both cheaper and faster than the models you evaluated so far. However, there is a catch: the context length* is much smaller than that of the other LMS. Namely, it can only process **300** tokens during inference. Meanwhile, the other models can process up to 100K tokens! \n",
    "\n",
    "*_The “context length” refers to the number of tokens that can be given to an LM as input._\n",
    "\n",
    "A. Are there subjects where using the cheaper model might be problematic? I.e., where part of the question and answer(s) might not fit completely in the context?\n",
    "\n",
    "B. /Discuss:/ Can you think of a strategy that would balance the needs of the government?\n",
    "\n",
    "**hint**:\n",
    "- An LM needs to have both the question and the different answer options in its context"
   ]
  },
  {
   "cell_type": "code",
   "execution_count": null,
   "id": "a88a6fa3-2735-44d7-9944-076cc9f679ed",
   "metadata": {},
   "outputs": [],
   "source": [
    "# A"
   ]
  },
  {
   "cell_type": "markdown",
   "id": "47f8a44a",
   "metadata": {},
   "source": [
    "B. /Dicsuss:/"
   ]
  },
  {
   "cell_type": "markdown",
   "id": "110f07bf-558f-467c-8f66-d88db561d455",
   "metadata": {},
   "source": [
    "### 3.4 (4 pt)\n",
    "\n",
    "/Discuss:/ The time has come to give your final recommendation on the use of LMs in education to the government! Taking into account everything you analyzed in all the preceding tasks (1, 2, and 3), please write a short recommendation consisting of 4 bullet points discussing your concerns.\n",
    "\n",
    "**hint**\n",
    "- Try to use the MECE framework: _Mutually Exclusive Collectively Exhaustive_"
   ]
  },
  {
   "cell_type": "markdown",
   "id": "434a5fa5",
   "metadata": {},
   "source": [
    "/Discuss:/\n",
    "1. \n",
    "\n",
    "2. \n",
    "\n",
    "3. \n",
    "\n",
    "4. "
   ]
  }
 ],
 "metadata": {
  "kernelspec": {
   "display_name": "base",
   "language": "python",
   "name": "python3"
  },
  "language_info": {
   "codemirror_mode": {
    "name": "ipython",
    "version": 3
   },
   "file_extension": ".py",
   "mimetype": "text/x-python",
   "name": "python",
   "nbconvert_exporter": "python",
   "pygments_lexer": "ipython3",
   "version": "3.8.8"
  }
 },
 "nbformat": 4,
 "nbformat_minor": 5
}
